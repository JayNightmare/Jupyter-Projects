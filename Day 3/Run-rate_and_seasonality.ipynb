{
 "cells": [
  {
   "cell_type": "markdown",
   "id": "6a6451fd",
   "metadata": {},
   "source": [
    "<div align=\"center\">\n",
    "\n",
    "# Run-rate & Seasonality\n",
    "Are we trending up across weeks into December? Any dips worth investigating?\n",
    "</div>"
   ]
  },
  {
   "cell_type": "code",
   "execution_count": null,
   "id": "1a88893f",
   "metadata": {},
   "outputs": [],
   "source": [
    "\n",
    "# TODO : \n",
    "# 1. Gets Dates Leading to December (Week 45-51)\n",
    "# 2. Find Dips based on Revenue change per week of revenue\n",
    "\n",
    "import pandas as pd\n",
    "import numpy as np"
   ]
  },
  {
   "cell_type": "code",
   "execution_count": 59,
   "id": "77713c23",
   "metadata": {},
   "outputs": [],
   "source": [
    "df = pd.read_csv(\"./Sales-Data-Analysis.csv\")"
   ]
  },
  {
   "cell_type": "code",
   "execution_count": 60,
   "id": "8552e263",
   "metadata": {},
   "outputs": [
    {
     "data": {
      "application/vnd.microsoft.datawrangler.viewer.v0+json": {
       "columns": [
        {
         "name": "index",
         "rawType": "int64",
         "type": "integer"
        },
        {
         "name": "Date",
         "rawType": "datetime64[ns]",
         "type": "datetime"
        }
       ],
       "ref": "0089d72c-f524-499d-b4e0-85c41dcb8838",
       "rows": [
        [
         "0",
         "2022-11-07 00:00:00"
        ],
        [
         "1",
         "2022-11-07 00:00:00"
        ],
        [
         "2",
         "2022-11-07 00:00:00"
        ],
        [
         "3",
         "2022-11-08 00:00:00"
        ],
        [
         "4",
         "2022-11-08 00:00:00"
        ],
        [
         "5",
         "2022-11-08 00:00:00"
        ],
        [
         "6",
         "2022-11-08 00:00:00"
        ],
        [
         "7",
         "2022-11-09 00:00:00"
        ],
        [
         "8",
         "2022-11-09 00:00:00"
        ],
        [
         "9",
         "2022-11-09 00:00:00"
        ],
        [
         "10",
         "2022-11-09 00:00:00"
        ],
        [
         "11",
         "2022-11-09 00:00:00"
        ],
        [
         "12",
         "2022-11-10 00:00:00"
        ],
        [
         "13",
         "2022-11-10 00:00:00"
        ],
        [
         "14",
         "2022-11-10 00:00:00"
        ],
        [
         "15",
         "2022-11-10 00:00:00"
        ],
        [
         "16",
         "2022-11-11 00:00:00"
        ],
        [
         "17",
         "2022-11-11 00:00:00"
        ],
        [
         "18",
         "2022-11-11 00:00:00"
        ],
        [
         "19",
         "2022-11-11 00:00:00"
        ],
        [
         "20",
         "2022-11-11 00:00:00"
        ],
        [
         "21",
         "2022-11-12 00:00:00"
        ],
        [
         "22",
         "2022-11-12 00:00:00"
        ],
        [
         "23",
         "2022-11-12 00:00:00"
        ],
        [
         "24",
         "2022-11-12 00:00:00"
        ],
        [
         "25",
         "2022-11-12 00:00:00"
        ],
        [
         "26",
         "2022-11-13 00:00:00"
        ],
        [
         "27",
         "2022-11-13 00:00:00"
        ],
        [
         "28",
         "2022-11-13 00:00:00"
        ],
        [
         "29",
         "2022-11-14 00:00:00"
        ],
        [
         "30",
         "2022-11-14 00:00:00"
        ],
        [
         "31",
         "2022-11-14 00:00:00"
        ],
        [
         "32",
         "2022-11-14 00:00:00"
        ],
        [
         "33",
         "2022-11-15 00:00:00"
        ],
        [
         "34",
         "2022-11-15 00:00:00"
        ],
        [
         "35",
         "2022-11-15 00:00:00"
        ],
        [
         "36",
         "2022-11-15 00:00:00"
        ],
        [
         "37",
         "2022-11-15 00:00:00"
        ],
        [
         "38",
         "2022-11-16 00:00:00"
        ],
        [
         "39",
         "2022-11-16 00:00:00"
        ],
        [
         "40",
         "2022-11-16 00:00:00"
        ],
        [
         "41",
         "2022-11-16 00:00:00"
        ],
        [
         "42",
         "2022-11-16 00:00:00"
        ],
        [
         "43",
         "2022-11-17 00:00:00"
        ],
        [
         "44",
         "2022-11-17 00:00:00"
        ],
        [
         "45",
         "2022-11-17 00:00:00"
        ],
        [
         "46",
         "2022-11-17 00:00:00"
        ],
        [
         "47",
         "2022-11-17 00:00:00"
        ],
        [
         "48",
         "2022-11-18 00:00:00"
        ],
        [
         "49",
         "2022-11-18 00:00:00"
        ]
       ],
       "shape": {
        "columns": 1,
        "rows": 254
       }
      },
      "text/plain": [
       "0     2022-11-07\n",
       "1     2022-11-07\n",
       "2     2022-11-07\n",
       "3     2022-11-08\n",
       "4     2022-11-08\n",
       "         ...    \n",
       "249   2022-12-28\n",
       "250   2022-12-29\n",
       "251   2022-12-29\n",
       "252   2022-12-29\n",
       "253   2022-12-29\n",
       "Name: Date, Length: 254, dtype: datetime64[ns]"
      ]
     },
     "execution_count": 60,
     "metadata": {},
     "output_type": "execute_result"
    }
   ],
   "source": [
    "df[\"Date\"] = pd.to_datetime(df[\"Date\"], errors=\"coerce\", dayfirst=True)\n",
    "df[\"Date\"]"
   ]
  },
  {
   "cell_type": "code",
   "execution_count": 61,
   "id": "97f9443f",
   "metadata": {},
   "outputs": [
    {
     "data": {
      "application/vnd.microsoft.datawrangler.viewer.v0+json": {
       "columns": [
        {
         "name": "index",
         "rawType": "int64",
         "type": "integer"
        },
        {
         "name": "Revenue",
         "rawType": "float64",
         "type": "float"
        }
       ],
       "ref": "50853681-aa38-4b53-ad71-3c4e8da72767",
       "rows": [
        [
         "0",
         "2000.0143000000003"
        ],
        [
         "1",
         "2199.992"
        ],
        [
         "2",
         "999.9960000000001"
        ],
        [
         "3",
         "7400.0133"
        ],
        [
         "4",
         "2000.0494999999999"
        ],
        [
         "5",
         "2000.0143000000003"
        ],
        [
         "6",
         "999.9960000000001"
        ],
        [
         "7",
         "7199.9673"
        ],
        [
         "8",
         "2000.0494999999999"
        ],
        [
         "9",
         "2000.0143000000003"
        ],
        [
         "10",
         "2000.0115000000003"
        ],
        [
         "11",
         "999.9960000000001"
        ],
        [
         "12",
         "7199.9673"
        ],
        [
         "13",
         "2000.0494999999999"
        ],
        [
         "14",
         "2000.0143000000003"
        ],
        [
         "15",
         "2000.0115000000003"
        ],
        [
         "16",
         "7199.9673"
        ],
        [
         "17",
         "2000.0494999999999"
        ],
        [
         "18",
         "2199.9913"
        ],
        [
         "19",
         "2000.0115000000003"
        ],
        [
         "20",
         "999.9960000000001"
        ],
        [
         "21",
         "6800.0052000000005"
        ],
        [
         "22",
         "2000.0494999999999"
        ],
        [
         "23",
         "2199.9913"
        ],
        [
         "24",
         "2000.0115000000003"
        ],
        [
         "25",
         "999.9960000000001"
        ],
        [
         "26",
         "6599.9592"
        ],
        [
         "27",
         "2000.0494999999999"
        ],
        [
         "28",
         "16074.435"
        ],
        [
         "29",
         "5839.3405"
        ],
        [
         "30",
         "2199.9913"
        ],
        [
         "31",
         "2000.0115000000003"
        ],
        [
         "32",
         "999.9960000000001"
        ],
        [
         "33",
         "6599.9592"
        ],
        [
         "34",
         "2000.0494999999999"
        ],
        [
         "35",
         "2000.0143000000003"
        ],
        [
         "36",
         "2000.0115000000003"
        ],
        [
         "37",
         "999.9960000000001"
        ],
        [
         "38",
         "6599.9592"
        ],
        [
         "39",
         "2000.0494999999999"
        ],
        [
         "40",
         "2000.0143000000003"
        ],
        [
         "41",
         "2000.0115000000003"
        ],
        [
         "42",
         "999.9960000000001"
        ],
        [
         "43",
         "6800.0052000000005"
        ],
        [
         "44",
         "2000.0494999999999"
        ],
        [
         "45",
         "2199.9913"
        ],
        [
         "46",
         "2000.0115000000003"
        ],
        [
         "47",
         "999.9960000000001"
        ],
        [
         "48",
         "7000.0512"
        ],
        [
         "49",
         "2000.0494999999999"
        ]
       ],
       "shape": {
        "columns": 1,
        "rows": 254
       }
      },
      "text/plain": [
       "0      2000.0143\n",
       "1      2199.9920\n",
       "2       999.9960\n",
       "3      7400.0133\n",
       "4      2000.0495\n",
       "         ...    \n",
       "249     999.9960\n",
       "250    9800.0457\n",
       "251    2800.0295\n",
       "252    2199.9913\n",
       "253    2000.0115\n",
       "Name: Revenue, Length: 254, dtype: float64"
      ]
     },
     "execution_count": 61,
     "metadata": {},
     "output_type": "execute_result"
    }
   ],
   "source": [
    "df[\"Price\"] = pd.to_numeric(df[\"Price\"], errors=\"coerce\")\n",
    "df[\"Quantity\"] = pd.to_numeric(df[\"Quantity\"], errors=\"coerce\")\n",
    "df[\"Revenue\"] = df[\"Price\"] * df[\"Quantity\"]\n",
    "df['Revenue']"
   ]
  },
  {
   "cell_type": "code",
   "execution_count": 62,
   "id": "43a2e64d",
   "metadata": {},
   "outputs": [
    {
     "data": {
      "application/vnd.microsoft.datawrangler.viewer.v0+json": {
       "columns": [
        {
         "name": "index",
         "rawType": "int64",
         "type": "integer"
        },
        {
         "name": "Order ID",
         "rawType": "int64",
         "type": "integer"
        },
        {
         "name": "Date",
         "rawType": "datetime64[ns]",
         "type": "datetime"
        },
        {
         "name": "Product",
         "rawType": "object",
         "type": "string"
        },
        {
         "name": "Price",
         "rawType": "float64",
         "type": "float"
        },
        {
         "name": "Quantity",
         "rawType": "float64",
         "type": "float"
        },
        {
         "name": "Purchase Type",
         "rawType": "object",
         "type": "string"
        },
        {
         "name": "Payment Method",
         "rawType": "object",
         "type": "string"
        },
        {
         "name": "Manager",
         "rawType": "object",
         "type": "string"
        },
        {
         "name": "City",
         "rawType": "object",
         "type": "string"
        },
        {
         "name": "Revenue",
         "rawType": "float64",
         "type": "float"
        }
       ],
       "ref": "be0a3987-344f-49a5-a1b0-d224eb28ce58",
       "rows": [
        [
         "0",
         "10452",
         "2022-11-07 00:00:00",
         "Fries",
         "3.49",
         "573.07",
         "Online ",
         " Gift Card",
         "Tom      Jackson",
         "London",
         "2000.0143000000003"
        ],
        [
         "1",
         "10453",
         "2022-11-07 00:00:00",
         "Beverages",
         "2.95",
         "745.76",
         "Online ",
         " Gift Card",
         "       Pablo Perez",
         "Madrid",
         "2199.992"
        ],
        [
         "2",
         "10454",
         "2022-11-07 00:00:00",
         "Sides & Other",
         "4.99",
         "200.4",
         "In-store ",
         " Gift Card",
         "Joao    Silva",
         "Lisbon",
         "999.9960000000001"
        ],
        [
         "3",
         "10455",
         "2022-11-08 00:00:00",
         "Burgers",
         "12.99",
         "569.67",
         "In-store ",
         " Credit Card",
         "Walter Muller",
         "Berlin",
         "7400.0133"
        ],
        [
         "4",
         "10456",
         "2022-11-08 00:00:00",
         "Chicken Sandwiches",
         "9.95",
         "201.01",
         "In-store ",
         " Credit Card",
         "Walter Muller",
         "Berlin",
         "2000.0494999999999"
        ],
        [
         "5",
         "10457",
         "2022-11-08 00:00:00",
         "Fries",
         "3.49",
         "573.07",
         "In-store ",
         " Credit Card",
         "Remy    Monet",
         "Paris",
         "2000.0143000000003"
        ],
        [
         "6",
         "10459",
         "2022-11-08 00:00:00",
         "Sides & Other",
         "4.99",
         "200.4",
         "In-store ",
         " Credit Card",
         "Walter Muller",
         "Berlin",
         "999.9960000000001"
        ],
        [
         "7",
         "10460",
         "2022-11-09 00:00:00",
         "Burgers",
         "12.99",
         "554.27",
         "In-store ",
         " Credit Card",
         "Remy Monet",
         "Paris",
         "7199.9673"
        ],
        [
         "8",
         "10461",
         "2022-11-09 00:00:00",
         "Chicken Sandwiches",
         "9.95",
         "201.01",
         "In-store ",
         " Credit Card",
         "Remy Monet",
         "Paris",
         "2000.0494999999999"
        ],
        [
         "9",
         "10462",
         "2022-11-09 00:00:00",
         "Fries",
         "3.49",
         "573.07",
         "In-store ",
         " Credit Card",
         "       Remy Monet",
         "Paris",
         "2000.0143000000003"
        ],
        [
         "10",
         "10463",
         "2022-11-09 00:00:00",
         "Beverages",
         "2.95",
         "677.97",
         "In-store ",
         " Credit Card",
         "       Remy Monet",
         "Paris",
         "2000.0115000000003"
        ],
        [
         "11",
         "10464",
         "2022-11-09 00:00:00",
         "Sides & Other",
         "4.99",
         "200.4",
         "In-store ",
         " Credit Card",
         "Remy     Monet",
         "Paris",
         "999.9960000000001"
        ],
        [
         "12",
         "10465",
         "2022-11-10 00:00:00",
         "Burgers",
         "12.99",
         "554.27",
         "In-store ",
         " Credit Card",
         "Pablo Perez",
         "Madrid",
         "7199.9673"
        ],
        [
         "13",
         "10466",
         "2022-11-10 00:00:00",
         "Chicken Sandwiches",
         "9.95",
         "201.01",
         "In-store ",
         " Credit Card",
         "Pablo Perez",
         "Madrid",
         "2000.0494999999999"
        ],
        [
         "14",
         "10467",
         "2022-11-10 00:00:00",
         "Fries",
         "3.49",
         "573.07",
         "In-store ",
         " Credit Card",
         "Pablo Perez",
         "Madrid",
         "2000.0143000000003"
        ],
        [
         "15",
         "10468",
         "2022-11-10 00:00:00",
         "Beverages",
         "2.95",
         "677.97",
         "In-store ",
         " Credit Card",
         "       Pablo Perez",
         "Madrid",
         "2000.0115000000003"
        ],
        [
         "16",
         "10470",
         "2022-11-11 00:00:00",
         "Burgers",
         "12.99",
         "554.27",
         "In-store ",
         " Credit Card",
         "       Pablo Perez",
         "Madrid",
         "7199.9673"
        ],
        [
         "17",
         "10471",
         "2022-11-11 00:00:00",
         "Chicken Sandwiches",
         "9.95",
         "201.01",
         "In-store ",
         " Credit Card",
         "       Pablo Perez",
         "Madrid",
         "2000.0494999999999"
        ],
        [
         "18",
         "10472",
         "2022-11-11 00:00:00",
         "Fries",
         "3.49",
         "630.37",
         "In-store ",
         " Credit Card",
         "Pablo   Perez",
         "Madrid",
         "2199.9913"
        ],
        [
         "19",
         "10473",
         "2022-11-11 00:00:00",
         "Beverages",
         "2.95",
         "677.97",
         "In-store ",
         " Credit Card",
         "       Pablo Perez",
         "Madrid",
         "2000.0115000000003"
        ],
        [
         "20",
         "10474",
         "2022-11-11 00:00:00",
         "Sides & Other",
         "4.99",
         "200.4",
         "In-store ",
         " Credit Card",
         "       Pablo Perez",
         "Madrid",
         "999.9960000000001"
        ],
        [
         "21",
         "10475",
         "2022-11-12 00:00:00",
         "Burgers",
         "12.99",
         "523.48",
         "In-store ",
         " Credit Card",
         "       Pablo Perez",
         "Madrid",
         "6800.0052000000005"
        ],
        [
         "22",
         "10476",
         "2022-11-12 00:00:00",
         "Chicken Sandwiches",
         "9.95",
         "201.01",
         "In-store ",
         " Credit Card",
         "Pablo Perez",
         "Madrid",
         "2000.0494999999999"
        ],
        [
         "23",
         "10477",
         "2022-11-12 00:00:00",
         "Fries",
         "3.49",
         "630.37",
         "In-store ",
         " Credit Card",
         "Pablo  Perez",
         "Madrid",
         "2199.9913"
        ],
        [
         "24",
         "10478",
         "2022-11-12 00:00:00",
         "Beverages",
         "2.95",
         "677.97",
         "In-store ",
         " Credit Card",
         "Pablo Perez",
         "Madrid",
         "2000.0115000000003"
        ],
        [
         "25",
         "10479",
         "2022-11-12 00:00:00",
         "Sides & Other",
         "4.99",
         "200.4",
         "In-store ",
         " Credit Card",
         "Pablo    Perez",
         "Madrid",
         "999.9960000000001"
        ],
        [
         "26",
         "10480",
         "2022-11-13 00:00:00",
         "Burgers",
         "12.99",
         "508.08",
         "In-store ",
         " Credit Card",
         "Pablo Perez",
         "Madrid",
         "6599.9592"
        ],
        [
         "27",
         "10481",
         "2022-11-13 00:00:00",
         "Chicken Sandwiches",
         "9.95",
         "201.01",
         "In-store ",
         " Credit Card",
         "Pablo Perez",
         "Madrid",
         "2000.0494999999999"
        ],
        [
         "28",
         "10482",
         "2022-11-13 00:00:00",
         "Fries",
         "25.5",
         "630.37",
         "In-store ",
         " Credit Card",
         "Joao Silva",
         "Lisbon",
         "16074.435"
        ],
        [
         "29",
         "10486",
         "2022-11-14 00:00:00",
         "Chicken Sandwiches",
         "29.05",
         "201.01",
         "In-store ",
         " Credit Card",
         "Joao    Silva",
         "Lisbon",
         "5839.3405"
        ],
        [
         "30",
         "10487",
         "2022-11-14 00:00:00",
         "Fries",
         "3.49",
         "630.37",
         "In-store ",
         " Credit Card",
         "Joao Silva",
         "Lisbon",
         "2199.9913"
        ],
        [
         "31",
         "10488",
         "2022-11-14 00:00:00",
         "Beverages",
         "2.95",
         "677.97",
         "In-store ",
         " Credit Card",
         "Joao Silva",
         "Lisbon",
         "2000.0115000000003"
        ],
        [
         "32",
         "10489",
         "2022-11-14 00:00:00",
         "Sides & Other",
         "4.99",
         "200.4",
         "In-store ",
         " Credit Card",
         "Pablo Perez",
         "Madrid",
         "999.9960000000001"
        ],
        [
         "33",
         "10490",
         "2022-11-15 00:00:00",
         "Burgers",
         "12.99",
         "508.08",
         "In-store ",
         " Credit Card",
         "Pablo Perez",
         "Madrid",
         "6599.9592"
        ],
        [
         "34",
         "10491",
         "2022-11-15 00:00:00",
         "Chicken Sandwiches",
         "9.95",
         "201.01",
         "In-store ",
         " Credit Card",
         "Pablo Perez",
         "Madrid",
         "2000.0494999999999"
        ],
        [
         "35",
         "10492",
         "2022-11-15 00:00:00",
         "Fries",
         "3.49",
         "573.07",
         "In-store ",
         " Credit Card",
         "Pablo Perez",
         "Madrid",
         "2000.0143000000003"
        ],
        [
         "36",
         "10493",
         "2022-11-15 00:00:00",
         "Beverages",
         "2.95",
         "677.97",
         "In-store ",
         " Credit Card",
         "Pablo Perez",
         "Madrid",
         "2000.0115000000003"
        ],
        [
         "37",
         "10494",
         "2022-11-15 00:00:00",
         "Sides & Other",
         "4.99",
         "200.4",
         "In-store ",
         " Credit Card",
         "Pablo Perez",
         "Madrid",
         "999.9960000000001"
        ],
        [
         "38",
         "10495",
         "2022-11-16 00:00:00",
         "Burgers",
         "12.99",
         "508.08",
         "In-store ",
         " Credit Card",
         "Pablo Perez",
         "Madrid",
         "6599.9592"
        ],
        [
         "39",
         "10496",
         "2022-11-16 00:00:00",
         "Chicken Sandwiches",
         "9.95",
         "201.01",
         "In-store ",
         " Credit Card",
         "Pablo Perez",
         "Madrid",
         "2000.0494999999999"
        ],
        [
         "40",
         "10497",
         "2022-11-16 00:00:00",
         "Fries",
         "3.49",
         "573.07",
         "In-store ",
         " Credit Card",
         "Pablo Perez",
         "Madrid",
         "2000.0143000000003"
        ],
        [
         "41",
         "10498",
         "2022-11-16 00:00:00",
         "Beverages",
         "2.95",
         "677.97",
         "Drive-thru ",
         " Credit Card",
         "Pablo Perez",
         "Madrid",
         "2000.0115000000003"
        ],
        [
         "42",
         "10499",
         "2022-11-16 00:00:00",
         "Sides & Other",
         "4.99",
         "200.4",
         "Drive-thru ",
         " Credit Card",
         "Pablo Perez",
         "Madrid",
         "999.9960000000001"
        ],
        [
         "43",
         "10500",
         "2022-11-17 00:00:00",
         "Burgers",
         "12.99",
         "523.48",
         "Drive-thru ",
         " Credit Card",
         "Pablo Perez",
         "Madrid",
         "6800.0052000000005"
        ],
        [
         "44",
         "10501",
         "2022-11-17 00:00:00",
         "Chicken Sandwiches",
         "9.95",
         "201.01",
         "Drive-thru ",
         " Credit Card",
         "Pablo Perez",
         "Madrid",
         "2000.0494999999999"
        ],
        [
         "45",
         "10502",
         "2022-11-17 00:00:00",
         "Fries",
         "3.49",
         "630.37",
         "Drive-thru ",
         " Credit Card",
         "Pablo Perez",
         "Madrid",
         "2199.9913"
        ],
        [
         "46",
         "10503",
         "2022-11-17 00:00:00",
         "Beverages",
         "2.95",
         "677.97",
         "Drive-thru ",
         " Credit Card",
         "Pablo Perez",
         "Madrid",
         "2000.0115000000003"
        ],
        [
         "47",
         "10504",
         "2022-11-17 00:00:00",
         "Sides & Other",
         "4.99",
         "200.4",
         "Drive-thru ",
         " Credit Card",
         "Pablo Perez",
         "Madrid",
         "999.9960000000001"
        ],
        [
         "48",
         "10505",
         "2022-11-18 00:00:00",
         "Burgers",
         "12.99",
         "538.88",
         "Drive-thru ",
         " Credit Card",
         "Pablo Perez",
         "Madrid",
         "7000.0512"
        ],
        [
         "49",
         "10506",
         "2022-11-18 00:00:00",
         "Chicken Sandwiches",
         "9.95",
         "201.01",
         "Drive-thru ",
         " Credit Card",
         "Pablo Perez",
         "Madrid",
         "2000.0494999999999"
        ]
       ],
       "shape": {
        "columns": 10,
        "rows": 254
       }
      },
      "text/html": [
       "<div>\n",
       "<style scoped>\n",
       "    .dataframe tbody tr th:only-of-type {\n",
       "        vertical-align: middle;\n",
       "    }\n",
       "\n",
       "    .dataframe tbody tr th {\n",
       "        vertical-align: top;\n",
       "    }\n",
       "\n",
       "    .dataframe thead th {\n",
       "        text-align: right;\n",
       "    }\n",
       "</style>\n",
       "<table border=\"1\" class=\"dataframe\">\n",
       "  <thead>\n",
       "    <tr style=\"text-align: right;\">\n",
       "      <th></th>\n",
       "      <th>Order ID</th>\n",
       "      <th>Date</th>\n",
       "      <th>Product</th>\n",
       "      <th>Price</th>\n",
       "      <th>Quantity</th>\n",
       "      <th>Purchase Type</th>\n",
       "      <th>Payment Method</th>\n",
       "      <th>Manager</th>\n",
       "      <th>City</th>\n",
       "      <th>Revenue</th>\n",
       "    </tr>\n",
       "  </thead>\n",
       "  <tbody>\n",
       "    <tr>\n",
       "      <th>0</th>\n",
       "      <td>10452</td>\n",
       "      <td>2022-11-07</td>\n",
       "      <td>Fries</td>\n",
       "      <td>3.49</td>\n",
       "      <td>573.07</td>\n",
       "      <td>Online</td>\n",
       "      <td>Gift Card</td>\n",
       "      <td>Tom      Jackson</td>\n",
       "      <td>London</td>\n",
       "      <td>2000.0143</td>\n",
       "    </tr>\n",
       "    <tr>\n",
       "      <th>1</th>\n",
       "      <td>10453</td>\n",
       "      <td>2022-11-07</td>\n",
       "      <td>Beverages</td>\n",
       "      <td>2.95</td>\n",
       "      <td>745.76</td>\n",
       "      <td>Online</td>\n",
       "      <td>Gift Card</td>\n",
       "      <td>Pablo Perez</td>\n",
       "      <td>Madrid</td>\n",
       "      <td>2199.9920</td>\n",
       "    </tr>\n",
       "    <tr>\n",
       "      <th>2</th>\n",
       "      <td>10454</td>\n",
       "      <td>2022-11-07</td>\n",
       "      <td>Sides &amp; Other</td>\n",
       "      <td>4.99</td>\n",
       "      <td>200.40</td>\n",
       "      <td>In-store</td>\n",
       "      <td>Gift Card</td>\n",
       "      <td>Joao    Silva</td>\n",
       "      <td>Lisbon</td>\n",
       "      <td>999.9960</td>\n",
       "    </tr>\n",
       "    <tr>\n",
       "      <th>3</th>\n",
       "      <td>10455</td>\n",
       "      <td>2022-11-08</td>\n",
       "      <td>Burgers</td>\n",
       "      <td>12.99</td>\n",
       "      <td>569.67</td>\n",
       "      <td>In-store</td>\n",
       "      <td>Credit Card</td>\n",
       "      <td>Walter Muller</td>\n",
       "      <td>Berlin</td>\n",
       "      <td>7400.0133</td>\n",
       "    </tr>\n",
       "    <tr>\n",
       "      <th>4</th>\n",
       "      <td>10456</td>\n",
       "      <td>2022-11-08</td>\n",
       "      <td>Chicken Sandwiches</td>\n",
       "      <td>9.95</td>\n",
       "      <td>201.01</td>\n",
       "      <td>In-store</td>\n",
       "      <td>Credit Card</td>\n",
       "      <td>Walter Muller</td>\n",
       "      <td>Berlin</td>\n",
       "      <td>2000.0495</td>\n",
       "    </tr>\n",
       "    <tr>\n",
       "      <th>...</th>\n",
       "      <td>...</td>\n",
       "      <td>...</td>\n",
       "      <td>...</td>\n",
       "      <td>...</td>\n",
       "      <td>...</td>\n",
       "      <td>...</td>\n",
       "      <td>...</td>\n",
       "      <td>...</td>\n",
       "      <td>...</td>\n",
       "      <td>...</td>\n",
       "    </tr>\n",
       "    <tr>\n",
       "      <th>249</th>\n",
       "      <td>10709</td>\n",
       "      <td>2022-12-28</td>\n",
       "      <td>Sides &amp; Other</td>\n",
       "      <td>4.99</td>\n",
       "      <td>200.40</td>\n",
       "      <td>Drive-thru</td>\n",
       "      <td>Gift Card</td>\n",
       "      <td>Walter Muller</td>\n",
       "      <td>Berlin</td>\n",
       "      <td>999.9960</td>\n",
       "    </tr>\n",
       "    <tr>\n",
       "      <th>250</th>\n",
       "      <td>10710</td>\n",
       "      <td>2022-12-29</td>\n",
       "      <td>Burgers</td>\n",
       "      <td>12.99</td>\n",
       "      <td>754.43</td>\n",
       "      <td>Drive-thru</td>\n",
       "      <td>Gift Card</td>\n",
       "      <td>Walter Muller</td>\n",
       "      <td>Berlin</td>\n",
       "      <td>9800.0457</td>\n",
       "    </tr>\n",
       "    <tr>\n",
       "      <th>251</th>\n",
       "      <td>10711</td>\n",
       "      <td>2022-12-29</td>\n",
       "      <td>Chicken Sandwiches</td>\n",
       "      <td>9.95</td>\n",
       "      <td>281.41</td>\n",
       "      <td>Drive-thru</td>\n",
       "      <td>Gift Card</td>\n",
       "      <td>Walter Muller</td>\n",
       "      <td>Berlin</td>\n",
       "      <td>2800.0295</td>\n",
       "    </tr>\n",
       "    <tr>\n",
       "      <th>252</th>\n",
       "      <td>10712</td>\n",
       "      <td>2022-12-29</td>\n",
       "      <td>Fries</td>\n",
       "      <td>3.49</td>\n",
       "      <td>630.37</td>\n",
       "      <td>Drive-thru</td>\n",
       "      <td>Gift Card</td>\n",
       "      <td>Walter Muller</td>\n",
       "      <td>Berlin</td>\n",
       "      <td>2199.9913</td>\n",
       "    </tr>\n",
       "    <tr>\n",
       "      <th>253</th>\n",
       "      <td>10713</td>\n",
       "      <td>2022-12-29</td>\n",
       "      <td>Beverages</td>\n",
       "      <td>2.95</td>\n",
       "      <td>677.97</td>\n",
       "      <td>Drive-thru</td>\n",
       "      <td>Gift Card</td>\n",
       "      <td>Walter Muller</td>\n",
       "      <td>Berlin</td>\n",
       "      <td>2000.0115</td>\n",
       "    </tr>\n",
       "  </tbody>\n",
       "</table>\n",
       "<p>254 rows × 10 columns</p>\n",
       "</div>"
      ],
      "text/plain": [
       "     Order ID       Date             Product  Price  Quantity Purchase Type  \\\n",
       "0       10452 2022-11-07               Fries   3.49    573.07       Online    \n",
       "1       10453 2022-11-07           Beverages   2.95    745.76       Online    \n",
       "2       10454 2022-11-07       Sides & Other   4.99    200.40     In-store    \n",
       "3       10455 2022-11-08             Burgers  12.99    569.67     In-store    \n",
       "4       10456 2022-11-08  Chicken Sandwiches   9.95    201.01     In-store    \n",
       "..        ...        ...                 ...    ...       ...           ...   \n",
       "249     10709 2022-12-28       Sides & Other   4.99    200.40   Drive-thru    \n",
       "250     10710 2022-12-29             Burgers  12.99    754.43   Drive-thru    \n",
       "251     10711 2022-12-29  Chicken Sandwiches   9.95    281.41   Drive-thru    \n",
       "252     10712 2022-12-29               Fries   3.49    630.37   Drive-thru    \n",
       "253     10713 2022-12-29           Beverages   2.95    677.97   Drive-thru    \n",
       "\n",
       "    Payment Method             Manager    City    Revenue  \n",
       "0        Gift Card    Tom      Jackson  London  2000.0143  \n",
       "1        Gift Card         Pablo Perez  Madrid  2199.9920  \n",
       "2        Gift Card       Joao    Silva  Lisbon   999.9960  \n",
       "3      Credit Card       Walter Muller  Berlin  7400.0133  \n",
       "4      Credit Card       Walter Muller  Berlin  2000.0495  \n",
       "..             ...                 ...     ...        ...  \n",
       "249      Gift Card       Walter Muller  Berlin   999.9960  \n",
       "250      Gift Card       Walter Muller  Berlin  9800.0457  \n",
       "251      Gift Card       Walter Muller  Berlin  2800.0295  \n",
       "252      Gift Card       Walter Muller  Berlin  2199.9913  \n",
       "253      Gift Card       Walter Muller  Berlin  2000.0115  \n",
       "\n",
       "[254 rows x 10 columns]"
      ]
     },
     "execution_count": 62,
     "metadata": {},
     "output_type": "execute_result"
    }
   ],
   "source": [
    "df = df.dropna(subset=[\"Date\", \"Revenue\"])\n",
    "df"
   ]
  },
  {
   "cell_type": "code",
   "execution_count": 63,
   "id": "e3a754b3",
   "metadata": {},
   "outputs": [],
   "source": [
    "df[\"Week\"] = df[\"Date\"].dt.isocalendar().week.astype(int)\n",
    "df[\"Month\"] = df[\"Date\"].dt.month"
   ]
  },
  {
   "cell_type": "code",
   "execution_count": 64,
   "id": "2d0a6896",
   "metadata": {},
   "outputs": [
    {
     "data": {
      "application/vnd.microsoft.datawrangler.viewer.v0+json": {
       "columns": [
        {
         "name": "index",
         "rawType": "int64",
         "type": "integer"
        },
        {
         "name": "Week",
         "rawType": "int64",
         "type": "integer"
        },
        {
         "name": "Revenue",
         "rawType": "float64",
         "type": "float"
        }
       ],
       "ref": "0b4db5a6-0dde-4bde-8541-4c50bca709e6",
       "rows": [
        [
         "0",
         "45",
         "101074.6769"
        ],
        [
         "1",
         "46",
         "95639.6364"
        ],
        [
         "2",
         "47",
         "95000.16290000001"
        ],
        [
         "3",
         "48",
         "90800.5043"
        ],
        [
         "4",
         "49",
         "100600.5254"
        ],
        [
         "5",
         "50",
         "104200.37150000001"
        ],
        [
         "6",
         "51",
         "113799.887"
        ],
        [
         "7",
         "52",
         "68400.0948"
        ]
       ],
       "shape": {
        "columns": 2,
        "rows": 8
       }
      },
      "text/html": [
       "<div>\n",
       "<style scoped>\n",
       "    .dataframe tbody tr th:only-of-type {\n",
       "        vertical-align: middle;\n",
       "    }\n",
       "\n",
       "    .dataframe tbody tr th {\n",
       "        vertical-align: top;\n",
       "    }\n",
       "\n",
       "    .dataframe thead th {\n",
       "        text-align: right;\n",
       "    }\n",
       "</style>\n",
       "<table border=\"1\" class=\"dataframe\">\n",
       "  <thead>\n",
       "    <tr style=\"text-align: right;\">\n",
       "      <th></th>\n",
       "      <th>Week</th>\n",
       "      <th>Revenue</th>\n",
       "    </tr>\n",
       "  </thead>\n",
       "  <tbody>\n",
       "    <tr>\n",
       "      <th>0</th>\n",
       "      <td>45</td>\n",
       "      <td>101074.6769</td>\n",
       "    </tr>\n",
       "    <tr>\n",
       "      <th>1</th>\n",
       "      <td>46</td>\n",
       "      <td>95639.6364</td>\n",
       "    </tr>\n",
       "    <tr>\n",
       "      <th>2</th>\n",
       "      <td>47</td>\n",
       "      <td>95000.1629</td>\n",
       "    </tr>\n",
       "    <tr>\n",
       "      <th>3</th>\n",
       "      <td>48</td>\n",
       "      <td>90800.5043</td>\n",
       "    </tr>\n",
       "    <tr>\n",
       "      <th>4</th>\n",
       "      <td>49</td>\n",
       "      <td>100600.5254</td>\n",
       "    </tr>\n",
       "    <tr>\n",
       "      <th>5</th>\n",
       "      <td>50</td>\n",
       "      <td>104200.3715</td>\n",
       "    </tr>\n",
       "    <tr>\n",
       "      <th>6</th>\n",
       "      <td>51</td>\n",
       "      <td>113799.8870</td>\n",
       "    </tr>\n",
       "    <tr>\n",
       "      <th>7</th>\n",
       "      <td>52</td>\n",
       "      <td>68400.0948</td>\n",
       "    </tr>\n",
       "  </tbody>\n",
       "</table>\n",
       "</div>"
      ],
      "text/plain": [
       "   Week      Revenue\n",
       "0    45  101074.6769\n",
       "1    46   95639.6364\n",
       "2    47   95000.1629\n",
       "3    48   90800.5043\n",
       "4    49  100600.5254\n",
       "5    50  104200.3715\n",
       "6    51  113799.8870\n",
       "7    52   68400.0948"
      ]
     },
     "execution_count": 64,
     "metadata": {},
     "output_type": "execute_result"
    }
   ],
   "source": [
    "weekly_rev = df.groupby(\"Week\", as_index=False)[\"Revenue\"].sum().sort_values(\"Week\")\n",
    "weekly_rev"
   ]
  },
  {
   "cell_type": "code",
   "execution_count": 65,
   "id": "230a3ae2",
   "metadata": {},
   "outputs": [],
   "source": [
    "weekly_rev[\"WoW_Change_%\"] = np.round(\n",
    "    weekly_rev[\"Revenue\"].pct_change(fill_method=None) * 100, 2\n",
    ")\n",
    "weekly_rev[\"RunRate_Avg\"] = np.round(\n",
    "    weekly_rev[\"Revenue\"].expanding().mean(), 2\n",
    ")"
   ]
  },
  {
   "cell_type": "code",
   "execution_count": 66,
   "id": "bf21c1a8",
   "metadata": {},
   "outputs": [
    {
     "name": "stdout",
     "output_type": "stream",
     "text": [
      "   Week      Revenue  WoW_Change_%  RunRate_Avg\n",
      "0    45  101074.6769           NaN    101074.68\n",
      "1    46   95639.6364         -5.38     98357.16\n",
      "2    47   95000.1629         -0.67     97238.16\n",
      "3    48   90800.5043         -4.42     95628.75\n",
      "4    49  100600.5254         10.79     96623.10\n",
      "5    50  104200.3715          3.58     97885.98\n",
      "6    51  113799.8870          9.21    100159.39\n",
      "7    52   68400.0948        -39.89     96189.48\n",
      "\n",
      "\n",
      "   Week     Revenue  WoW_Change_%  RunRate_Avg\n",
      "1    46  95639.6364         -5.38     98357.16\n",
      "2    47  95000.1629         -0.67     97238.16\n",
      "3    48  90800.5043         -4.42     95628.75\n",
      "7    52  68400.0948        -39.89     96189.48\n"
     ]
    }
   ],
   "source": [
    "dips = weekly_rev[weekly_rev[\"WoW_Change_%\"] < 0]\n",
    "\n",
    "print(weekly_rev.head(10))\n",
    "print(\"\\n\")\n",
    "print(dips)\n"
   ]
  }
 ],
 "metadata": {
  "kernelspec": {
   "display_name": "Python 3",
   "language": "python",
   "name": "python3"
  },
  "language_info": {
   "codemirror_mode": {
    "name": "ipython",
    "version": 3
   },
   "file_extension": ".py",
   "mimetype": "text/x-python",
   "name": "python",
   "nbconvert_exporter": "python",
   "pygments_lexer": "ipython3",
   "version": "3.13.1"
  }
 },
 "nbformat": 4,
 "nbformat_minor": 5
}

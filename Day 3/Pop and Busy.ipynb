{
 "cells": [
  {
   "cell_type": "markdown",
   "id": "2b3f2173",
   "metadata": {},
   "source": [
    "<div align=\"center\">\n",
    "\n",
    "# Popular City and Busiest Day Analysis\n",
    "    \n",
    "</div>"
   ]
  },
  {
   "cell_type": "code",
   "execution_count": 31,
   "id": "06daf1a0",
   "metadata": {},
   "outputs": [],
   "source": [
    "# Jay's Block \n",
    "\n",
    "# TODO :\n",
    "# * Most popular city (Based on Revenue) - Jav\n",
    "# * Busiest day per city? - Jay\n"
   ]
  },
  {
   "cell_type": "code",
   "execution_count": 32,
   "id": "b5484f58",
   "metadata": {},
   "outputs": [],
   "source": [
    "import numpy as np\n",
    "import pandas as pd"
   ]
  },
  {
   "cell_type": "code",
   "execution_count": 33,
   "id": "68492447",
   "metadata": {},
   "outputs": [],
   "source": [
    "# ------------------------------------------------------------------------ #"
   ]
  },
  {
   "cell_type": "markdown",
   "id": "4931d5d9",
   "metadata": {},
   "source": [
    "<div align=\"center\">\n",
    "\n",
    "# --- Most Popular City --- #\n",
    "-- (Based on Revenue) --\n",
    "</div>"
   ]
  },
  {
   "cell_type": "code",
   "execution_count": 34,
   "id": "372ae838",
   "metadata": {},
   "outputs": [
    {
     "data": {
      "application/vnd.microsoft.datawrangler.viewer.v0+json": {
       "columns": [
        {
         "name": "index",
         "rawType": "int64",
         "type": "integer"
        },
        {
         "name": "Order ID",
         "rawType": "int64",
         "type": "integer"
        },
        {
         "name": "Date",
         "rawType": "object",
         "type": "string"
        },
        {
         "name": "Product",
         "rawType": "object",
         "type": "string"
        },
        {
         "name": "Price",
         "rawType": "float64",
         "type": "float"
        },
        {
         "name": "Quantity",
         "rawType": "float64",
         "type": "float"
        },
        {
         "name": "Purchase Type",
         "rawType": "object",
         "type": "string"
        },
        {
         "name": "Payment Method",
         "rawType": "object",
         "type": "string"
        },
        {
         "name": "Manager",
         "rawType": "object",
         "type": "string"
        },
        {
         "name": "City",
         "rawType": "object",
         "type": "string"
        }
       ],
       "ref": "49dc29eb-0aa3-4461-b801-ad23cc383bb6",
       "rows": [
        [
         "0",
         "10452",
         "07-11-2022",
         "Fries",
         "3.49",
         "573.07",
         "Online ",
         " Gift Card",
         "Tom      Jackson",
         "London"
        ],
        [
         "1",
         "10453",
         "07-11-2022",
         "Beverages",
         "2.95",
         "745.76",
         "Online ",
         " Gift Card",
         "       Pablo Perez",
         "Madrid"
        ],
        [
         "2",
         "10454",
         "07-11-2022",
         "Sides & Other",
         "4.99",
         "200.4",
         "In-store ",
         " Gift Card",
         "Joao    Silva",
         "Lisbon"
        ],
        [
         "3",
         "10455",
         "08-11-2022",
         "Burgers",
         "12.99",
         "569.67",
         "In-store ",
         " Credit Card",
         "Walter Muller",
         "Berlin"
        ],
        [
         "4",
         "10456",
         "08-11-2022",
         "Chicken Sandwiches",
         "9.95",
         "201.01",
         "In-store ",
         " Credit Card",
         "Walter Muller",
         "Berlin"
        ],
        [
         "5",
         "10457",
         "08-11-2022",
         "Fries",
         "3.49",
         "573.07",
         "In-store ",
         " Credit Card",
         "Remy    Monet",
         "Paris"
        ],
        [
         "6",
         "10459",
         "08-11-2022",
         "Sides & Other",
         "4.99",
         "200.4",
         "In-store ",
         " Credit Card",
         "Walter Muller",
         "Berlin"
        ],
        [
         "7",
         "10460",
         "09-11-2022",
         "Burgers",
         "12.99",
         "554.27",
         "In-store ",
         " Credit Card",
         "Remy Monet",
         "Paris"
        ],
        [
         "8",
         "10461",
         "09-11-2022",
         "Chicken Sandwiches",
         "9.95",
         "201.01",
         "In-store ",
         " Credit Card",
         "Remy Monet",
         "Paris"
        ],
        [
         "9",
         "10462",
         "09-11-2022",
         "Fries",
         "3.49",
         "573.07",
         "In-store ",
         " Credit Card",
         "       Remy Monet",
         "Paris"
        ],
        [
         "10",
         "10463",
         "09-11-2022",
         "Beverages",
         "2.95",
         "677.97",
         "In-store ",
         " Credit Card",
         "       Remy Monet",
         "Paris"
        ],
        [
         "11",
         "10464",
         "09-11-2022",
         "Sides & Other",
         "4.99",
         "200.4",
         "In-store ",
         " Credit Card",
         "Remy     Monet",
         "Paris"
        ],
        [
         "12",
         "10465",
         "10-11-2022",
         "Burgers",
         "12.99",
         "554.27",
         "In-store ",
         " Credit Card",
         "Pablo Perez",
         "Madrid"
        ],
        [
         "13",
         "10466",
         "10-11-2022",
         "Chicken Sandwiches",
         "9.95",
         "201.01",
         "In-store ",
         " Credit Card",
         "Pablo Perez",
         "Madrid"
        ],
        [
         "14",
         "10467",
         "10-11-2022",
         "Fries",
         "3.49",
         "573.07",
         "In-store ",
         " Credit Card",
         "Pablo Perez",
         "Madrid"
        ],
        [
         "15",
         "10468",
         "10-11-2022",
         "Beverages",
         "2.95",
         "677.97",
         "In-store ",
         " Credit Card",
         "       Pablo Perez",
         "Madrid"
        ],
        [
         "16",
         "10470",
         "11-11-2022",
         "Burgers",
         "12.99",
         "554.27",
         "In-store ",
         " Credit Card",
         "       Pablo Perez",
         "Madrid"
        ],
        [
         "17",
         "10471",
         "11-11-2022",
         "Chicken Sandwiches",
         "9.95",
         "201.01",
         "In-store ",
         " Credit Card",
         "       Pablo Perez",
         "Madrid"
        ],
        [
         "18",
         "10472",
         "11-11-2022",
         "Fries",
         "3.49",
         "630.37",
         "In-store ",
         " Credit Card",
         "Pablo   Perez",
         "Madrid"
        ],
        [
         "19",
         "10473",
         "11-11-2022",
         "Beverages",
         "2.95",
         "677.97",
         "In-store ",
         " Credit Card",
         "       Pablo Perez",
         "Madrid"
        ],
        [
         "20",
         "10474",
         "11-11-2022",
         "Sides & Other",
         "4.99",
         "200.4",
         "In-store ",
         " Credit Card",
         "       Pablo Perez",
         "Madrid"
        ],
        [
         "21",
         "10475",
         "12-11-2022",
         "Burgers",
         "12.99",
         "523.48",
         "In-store ",
         " Credit Card",
         "       Pablo Perez",
         "Madrid"
        ],
        [
         "22",
         "10476",
         "12-11-2022",
         "Chicken Sandwiches",
         "9.95",
         "201.01",
         "In-store ",
         " Credit Card",
         "Pablo Perez",
         "Madrid"
        ],
        [
         "23",
         "10477",
         "12-11-2022",
         "Fries",
         "3.49",
         "630.37",
         "In-store ",
         " Credit Card",
         "Pablo  Perez",
         "Madrid"
        ],
        [
         "24",
         "10478",
         "12-11-2022",
         "Beverages",
         "2.95",
         "677.97",
         "In-store ",
         " Credit Card",
         "Pablo Perez",
         "Madrid"
        ],
        [
         "25",
         "10479",
         "12-11-2022",
         "Sides & Other",
         "4.99",
         "200.4",
         "In-store ",
         " Credit Card",
         "Pablo    Perez",
         "Madrid"
        ],
        [
         "26",
         "10480",
         "13-11-2022",
         "Burgers",
         "12.99",
         "508.08",
         "In-store ",
         " Credit Card",
         "Pablo Perez",
         "Madrid"
        ],
        [
         "27",
         "10481",
         "13-11-2022",
         "Chicken Sandwiches",
         "9.95",
         "201.01",
         "In-store ",
         " Credit Card",
         "Pablo Perez",
         "Madrid"
        ],
        [
         "28",
         "10482",
         "13-11-2022",
         "Fries",
         "25.5",
         "630.37",
         "In-store ",
         " Credit Card",
         "Joao Silva",
         "Lisbon"
        ],
        [
         "29",
         "10486",
         "14-11-2022",
         "Chicken Sandwiches",
         "29.05",
         "201.01",
         "In-store ",
         " Credit Card",
         "Joao    Silva",
         "Lisbon"
        ],
        [
         "30",
         "10487",
         "14-11-2022",
         "Fries",
         "3.49",
         "630.37",
         "In-store ",
         " Credit Card",
         "Joao Silva",
         "Lisbon"
        ],
        [
         "31",
         "10488",
         "14-11-2022",
         "Beverages",
         "2.95",
         "677.97",
         "In-store ",
         " Credit Card",
         "Joao Silva",
         "Lisbon"
        ],
        [
         "32",
         "10489",
         "14-11-2022",
         "Sides & Other",
         "4.99",
         "200.4",
         "In-store ",
         " Credit Card",
         "Pablo Perez",
         "Madrid"
        ],
        [
         "33",
         "10490",
         "15-11-2022",
         "Burgers",
         "12.99",
         "508.08",
         "In-store ",
         " Credit Card",
         "Pablo Perez",
         "Madrid"
        ],
        [
         "34",
         "10491",
         "15-11-2022",
         "Chicken Sandwiches",
         "9.95",
         "201.01",
         "In-store ",
         " Credit Card",
         "Pablo Perez",
         "Madrid"
        ],
        [
         "35",
         "10492",
         "15-11-2022",
         "Fries",
         "3.49",
         "573.07",
         "In-store ",
         " Credit Card",
         "Pablo Perez",
         "Madrid"
        ],
        [
         "36",
         "10493",
         "15-11-2022",
         "Beverages",
         "2.95",
         "677.97",
         "In-store ",
         " Credit Card",
         "Pablo Perez",
         "Madrid"
        ],
        [
         "37",
         "10494",
         "15-11-2022",
         "Sides & Other",
         "4.99",
         "200.4",
         "In-store ",
         " Credit Card",
         "Pablo Perez",
         "Madrid"
        ],
        [
         "38",
         "10495",
         "16-11-2022",
         "Burgers",
         "12.99",
         "508.08",
         "In-store ",
         " Credit Card",
         "Pablo Perez",
         "Madrid"
        ],
        [
         "39",
         "10496",
         "16-11-2022",
         "Chicken Sandwiches",
         "9.95",
         "201.01",
         "In-store ",
         " Credit Card",
         "Pablo Perez",
         "Madrid"
        ],
        [
         "40",
         "10497",
         "16-11-2022",
         "Fries",
         "3.49",
         "573.07",
         "In-store ",
         " Credit Card",
         "Pablo Perez",
         "Madrid"
        ],
        [
         "41",
         "10498",
         "16-11-2022",
         "Beverages",
         "2.95",
         "677.97",
         "Drive-thru ",
         " Credit Card",
         "Pablo Perez",
         "Madrid"
        ],
        [
         "42",
         "10499",
         "16-11-2022",
         "Sides & Other",
         "4.99",
         "200.4",
         "Drive-thru ",
         " Credit Card",
         "Pablo Perez",
         "Madrid"
        ],
        [
         "43",
         "10500",
         "17-11-2022",
         "Burgers",
         "12.99",
         "523.48",
         "Drive-thru ",
         " Credit Card",
         "Pablo Perez",
         "Madrid"
        ],
        [
         "44",
         "10501",
         "17-11-2022",
         "Chicken Sandwiches",
         "9.95",
         "201.01",
         "Drive-thru ",
         " Credit Card",
         "Pablo Perez",
         "Madrid"
        ],
        [
         "45",
         "10502",
         "17-11-2022",
         "Fries",
         "3.49",
         "630.37",
         "Drive-thru ",
         " Credit Card",
         "Pablo Perez",
         "Madrid"
        ],
        [
         "46",
         "10503",
         "17-11-2022",
         "Beverages",
         "2.95",
         "677.97",
         "Drive-thru ",
         " Credit Card",
         "Pablo Perez",
         "Madrid"
        ],
        [
         "47",
         "10504",
         "17-11-2022",
         "Sides & Other",
         "4.99",
         "200.4",
         "Drive-thru ",
         " Credit Card",
         "Pablo Perez",
         "Madrid"
        ],
        [
         "48",
         "10505",
         "18-11-2022",
         "Burgers",
         "12.99",
         "538.88",
         "Drive-thru ",
         " Credit Card",
         "Pablo Perez",
         "Madrid"
        ],
        [
         "49",
         "10506",
         "18-11-2022",
         "Chicken Sandwiches",
         "9.95",
         "201.01",
         "Drive-thru ",
         " Credit Card",
         "Pablo Perez",
         "Madrid"
        ]
       ],
       "shape": {
        "columns": 9,
        "rows": 254
       }
      },
      "text/html": [
       "<div>\n",
       "<style scoped>\n",
       "    .dataframe tbody tr th:only-of-type {\n",
       "        vertical-align: middle;\n",
       "    }\n",
       "\n",
       "    .dataframe tbody tr th {\n",
       "        vertical-align: top;\n",
       "    }\n",
       "\n",
       "    .dataframe thead th {\n",
       "        text-align: right;\n",
       "    }\n",
       "</style>\n",
       "<table border=\"1\" class=\"dataframe\">\n",
       "  <thead>\n",
       "    <tr style=\"text-align: right;\">\n",
       "      <th></th>\n",
       "      <th>Order ID</th>\n",
       "      <th>Date</th>\n",
       "      <th>Product</th>\n",
       "      <th>Price</th>\n",
       "      <th>Quantity</th>\n",
       "      <th>Purchase Type</th>\n",
       "      <th>Payment Method</th>\n",
       "      <th>Manager</th>\n",
       "      <th>City</th>\n",
       "    </tr>\n",
       "  </thead>\n",
       "  <tbody>\n",
       "    <tr>\n",
       "      <th>0</th>\n",
       "      <td>10452</td>\n",
       "      <td>07-11-2022</td>\n",
       "      <td>Fries</td>\n",
       "      <td>3.49</td>\n",
       "      <td>573.07</td>\n",
       "      <td>Online</td>\n",
       "      <td>Gift Card</td>\n",
       "      <td>Tom      Jackson</td>\n",
       "      <td>London</td>\n",
       "    </tr>\n",
       "    <tr>\n",
       "      <th>1</th>\n",
       "      <td>10453</td>\n",
       "      <td>07-11-2022</td>\n",
       "      <td>Beverages</td>\n",
       "      <td>2.95</td>\n",
       "      <td>745.76</td>\n",
       "      <td>Online</td>\n",
       "      <td>Gift Card</td>\n",
       "      <td>Pablo Perez</td>\n",
       "      <td>Madrid</td>\n",
       "    </tr>\n",
       "    <tr>\n",
       "      <th>2</th>\n",
       "      <td>10454</td>\n",
       "      <td>07-11-2022</td>\n",
       "      <td>Sides &amp; Other</td>\n",
       "      <td>4.99</td>\n",
       "      <td>200.40</td>\n",
       "      <td>In-store</td>\n",
       "      <td>Gift Card</td>\n",
       "      <td>Joao    Silva</td>\n",
       "      <td>Lisbon</td>\n",
       "    </tr>\n",
       "    <tr>\n",
       "      <th>3</th>\n",
       "      <td>10455</td>\n",
       "      <td>08-11-2022</td>\n",
       "      <td>Burgers</td>\n",
       "      <td>12.99</td>\n",
       "      <td>569.67</td>\n",
       "      <td>In-store</td>\n",
       "      <td>Credit Card</td>\n",
       "      <td>Walter Muller</td>\n",
       "      <td>Berlin</td>\n",
       "    </tr>\n",
       "    <tr>\n",
       "      <th>4</th>\n",
       "      <td>10456</td>\n",
       "      <td>08-11-2022</td>\n",
       "      <td>Chicken Sandwiches</td>\n",
       "      <td>9.95</td>\n",
       "      <td>201.01</td>\n",
       "      <td>In-store</td>\n",
       "      <td>Credit Card</td>\n",
       "      <td>Walter Muller</td>\n",
       "      <td>Berlin</td>\n",
       "    </tr>\n",
       "    <tr>\n",
       "      <th>...</th>\n",
       "      <td>...</td>\n",
       "      <td>...</td>\n",
       "      <td>...</td>\n",
       "      <td>...</td>\n",
       "      <td>...</td>\n",
       "      <td>...</td>\n",
       "      <td>...</td>\n",
       "      <td>...</td>\n",
       "      <td>...</td>\n",
       "    </tr>\n",
       "    <tr>\n",
       "      <th>249</th>\n",
       "      <td>10709</td>\n",
       "      <td>28-12-2022</td>\n",
       "      <td>Sides &amp; Other</td>\n",
       "      <td>4.99</td>\n",
       "      <td>200.40</td>\n",
       "      <td>Drive-thru</td>\n",
       "      <td>Gift Card</td>\n",
       "      <td>Walter Muller</td>\n",
       "      <td>Berlin</td>\n",
       "    </tr>\n",
       "    <tr>\n",
       "      <th>250</th>\n",
       "      <td>10710</td>\n",
       "      <td>29-12-2022</td>\n",
       "      <td>Burgers</td>\n",
       "      <td>12.99</td>\n",
       "      <td>754.43</td>\n",
       "      <td>Drive-thru</td>\n",
       "      <td>Gift Card</td>\n",
       "      <td>Walter Muller</td>\n",
       "      <td>Berlin</td>\n",
       "    </tr>\n",
       "    <tr>\n",
       "      <th>251</th>\n",
       "      <td>10711</td>\n",
       "      <td>29-12-2022</td>\n",
       "      <td>Chicken Sandwiches</td>\n",
       "      <td>9.95</td>\n",
       "      <td>281.41</td>\n",
       "      <td>Drive-thru</td>\n",
       "      <td>Gift Card</td>\n",
       "      <td>Walter Muller</td>\n",
       "      <td>Berlin</td>\n",
       "    </tr>\n",
       "    <tr>\n",
       "      <th>252</th>\n",
       "      <td>10712</td>\n",
       "      <td>29-12-2022</td>\n",
       "      <td>Fries</td>\n",
       "      <td>3.49</td>\n",
       "      <td>630.37</td>\n",
       "      <td>Drive-thru</td>\n",
       "      <td>Gift Card</td>\n",
       "      <td>Walter Muller</td>\n",
       "      <td>Berlin</td>\n",
       "    </tr>\n",
       "    <tr>\n",
       "      <th>253</th>\n",
       "      <td>10713</td>\n",
       "      <td>29-12-2022</td>\n",
       "      <td>Beverages</td>\n",
       "      <td>2.95</td>\n",
       "      <td>677.97</td>\n",
       "      <td>Drive-thru</td>\n",
       "      <td>Gift Card</td>\n",
       "      <td>Walter Muller</td>\n",
       "      <td>Berlin</td>\n",
       "    </tr>\n",
       "  </tbody>\n",
       "</table>\n",
       "<p>254 rows × 9 columns</p>\n",
       "</div>"
      ],
      "text/plain": [
       "     Order ID        Date             Product  Price  Quantity Purchase Type  \\\n",
       "0       10452  07-11-2022               Fries   3.49    573.07       Online    \n",
       "1       10453  07-11-2022           Beverages   2.95    745.76       Online    \n",
       "2       10454  07-11-2022       Sides & Other   4.99    200.40     In-store    \n",
       "3       10455  08-11-2022             Burgers  12.99    569.67     In-store    \n",
       "4       10456  08-11-2022  Chicken Sandwiches   9.95    201.01     In-store    \n",
       "..        ...         ...                 ...    ...       ...           ...   \n",
       "249     10709  28-12-2022       Sides & Other   4.99    200.40   Drive-thru    \n",
       "250     10710  29-12-2022             Burgers  12.99    754.43   Drive-thru    \n",
       "251     10711  29-12-2022  Chicken Sandwiches   9.95    281.41   Drive-thru    \n",
       "252     10712  29-12-2022               Fries   3.49    630.37   Drive-thru    \n",
       "253     10713  29-12-2022           Beverages   2.95    677.97   Drive-thru    \n",
       "\n",
       "    Payment Method             Manager    City  \n",
       "0        Gift Card    Tom      Jackson  London  \n",
       "1        Gift Card         Pablo Perez  Madrid  \n",
       "2        Gift Card       Joao    Silva  Lisbon  \n",
       "3      Credit Card       Walter Muller  Berlin  \n",
       "4      Credit Card       Walter Muller  Berlin  \n",
       "..             ...                 ...     ...  \n",
       "249      Gift Card       Walter Muller  Berlin  \n",
       "250      Gift Card       Walter Muller  Berlin  \n",
       "251      Gift Card       Walter Muller  Berlin  \n",
       "252      Gift Card       Walter Muller  Berlin  \n",
       "253      Gift Card       Walter Muller  Berlin  \n",
       "\n",
       "[254 rows x 9 columns]"
      ]
     },
     "execution_count": 34,
     "metadata": {},
     "output_type": "execute_result"
    }
   ],
   "source": [
    "df = pd.read_csv('./Sales-Data-Analysis.csv')\n",
    "df"
   ]
  },
  {
   "cell_type": "code",
   "execution_count": 35,
   "id": "15bf77e4",
   "metadata": {},
   "outputs": [],
   "source": [
    "def round_digits(num):\n",
    "    return np.round(num, 2)"
   ]
  },
  {
   "cell_type": "code",
   "execution_count": 36,
   "id": "610de6c3",
   "metadata": {},
   "outputs": [
    {
     "data": {
      "application/vnd.microsoft.datawrangler.viewer.v0+json": {
       "columns": [
        {
         "name": "index",
         "rawType": "int64",
         "type": "integer"
        },
        {
         "name": "Revenue",
         "rawType": "float64",
         "type": "float"
        }
       ],
       "ref": "20ed7b39-6c84-4c5c-b655-03a5ac2ddf4c",
       "rows": [
        [
         "0",
         "2000.01"
        ],
        [
         "1",
         "2199.99"
        ],
        [
         "2",
         "1000.0"
        ],
        [
         "3",
         "7400.01"
        ],
        [
         "4",
         "2000.05"
        ],
        [
         "5",
         "2000.01"
        ],
        [
         "6",
         "1000.0"
        ],
        [
         "7",
         "7199.97"
        ],
        [
         "8",
         "2000.05"
        ],
        [
         "9",
         "2000.01"
        ],
        [
         "10",
         "2000.01"
        ],
        [
         "11",
         "1000.0"
        ],
        [
         "12",
         "7199.97"
        ],
        [
         "13",
         "2000.05"
        ],
        [
         "14",
         "2000.01"
        ],
        [
         "15",
         "2000.01"
        ],
        [
         "16",
         "7199.97"
        ],
        [
         "17",
         "2000.05"
        ],
        [
         "18",
         "2199.99"
        ],
        [
         "19",
         "2000.01"
        ],
        [
         "20",
         "1000.0"
        ],
        [
         "21",
         "6800.01"
        ],
        [
         "22",
         "2000.05"
        ],
        [
         "23",
         "2199.99"
        ],
        [
         "24",
         "2000.01"
        ],
        [
         "25",
         "1000.0"
        ],
        [
         "26",
         "6599.96"
        ],
        [
         "27",
         "2000.05"
        ],
        [
         "28",
         "16074.44"
        ],
        [
         "29",
         "5839.34"
        ],
        [
         "30",
         "2199.99"
        ],
        [
         "31",
         "2000.01"
        ],
        [
         "32",
         "1000.0"
        ],
        [
         "33",
         "6599.96"
        ],
        [
         "34",
         "2000.05"
        ],
        [
         "35",
         "2000.01"
        ],
        [
         "36",
         "2000.01"
        ],
        [
         "37",
         "1000.0"
        ],
        [
         "38",
         "6599.96"
        ],
        [
         "39",
         "2000.05"
        ],
        [
         "40",
         "2000.01"
        ],
        [
         "41",
         "2000.01"
        ],
        [
         "42",
         "1000.0"
        ],
        [
         "43",
         "6800.01"
        ],
        [
         "44",
         "2000.05"
        ],
        [
         "45",
         "2199.99"
        ],
        [
         "46",
         "2000.01"
        ],
        [
         "47",
         "1000.0"
        ],
        [
         "48",
         "7000.05"
        ],
        [
         "49",
         "2000.05"
        ]
       ],
       "shape": {
        "columns": 1,
        "rows": 254
       }
      },
      "text/plain": [
       "0      2000.01\n",
       "1      2199.99\n",
       "2      1000.00\n",
       "3      7400.01\n",
       "4      2000.05\n",
       "        ...   \n",
       "249    1000.00\n",
       "250    9800.05\n",
       "251    2800.03\n",
       "252    2199.99\n",
       "253    2000.01\n",
       "Name: Revenue, Length: 254, dtype: float64"
      ]
     },
     "execution_count": 36,
     "metadata": {},
     "output_type": "execute_result"
    }
   ],
   "source": [
    "df['Revenue'] = (df['Price'] * df['Quantity']).apply(round_digits)\n",
    "df['Revenue']\n"
   ]
  },
  {
   "cell_type": "code",
   "execution_count": 38,
   "id": "254e0d01",
   "metadata": {},
   "outputs": [],
   "source": [
    "city_revenue = df.groupby('City', as_index=False)['Revenue'].sum()\n",
    "city_revenue = city_revenue.sort_values(\"Revenue\", ascending=False)\n",
    "top_city = city_revenue.iloc[0]"
   ]
  },
  {
   "cell_type": "code",
   "execution_count": 44,
   "id": "e0f4fc4c",
   "metadata": {},
   "outputs": [
    {
     "name": "stdout",
     "output_type": "stream",
     "text": [
      "Most Popular City (Based on Revenue):\n",
      "City          Lisbon\n",
      "Revenue    241714.11\n",
      "Name: 1, dtype: object\n",
      "\n",
      "Complete Table:\n",
      "     City    Revenue\n",
      "1  Lisbon  241714.11\n",
      "2  London  211201.05\n",
      "3  Madrid  136200.29\n",
      "0  Berlin  100600.13\n",
      "4   Paris   79800.31\n"
     ]
    }
   ],
   "source": [
    "print(\"Most Popular City (Based on Revenue):\")\n",
    "print(top_city)\n",
    "print(\"\\nComplete Table:\")\n",
    "print(city_revenue)"
   ]
  },
  {
   "cell_type": "code",
   "execution_count": null,
   "id": "0c5d7b49",
   "metadata": {},
   "outputs": [],
   "source": [
    "# ------------------------------------------------------------------------ #"
   ]
  },
  {
   "cell_type": "markdown",
   "id": "8abd55b2",
   "metadata": {},
   "source": [
    "<div align=\"center\">\n",
    "\n",
    "# --- Busiest Day per City? --- #\n",
    "</div>"
   ]
  },
  {
   "cell_type": "code",
   "execution_count": 48,
   "id": "af59afbc",
   "metadata": {},
   "outputs": [
    {
     "data": {
      "application/vnd.microsoft.datawrangler.viewer.v0+json": {
       "columns": [
        {
         "name": "index",
         "rawType": "int64",
         "type": "integer"
        },
        {
         "name": "City",
         "rawType": "object",
         "type": "string"
        },
        {
         "name": "Date",
         "rawType": "datetime64[ns]",
         "type": "datetime"
        },
        {
         "name": "Revenue",
         "rawType": "float64",
         "type": "float"
        }
       ],
       "ref": "2221eb64-8d78-4917-9eb8-24bbeeca1420",
       "rows": [
        [
         "0",
         "Berlin",
         "2022-11-08 00:00:00",
         "10400.06"
        ],
        [
         "1",
         "Berlin",
         "2022-12-24 00:00:00",
         "5200.0"
        ],
        [
         "2",
         "Berlin",
         "2022-12-25 00:00:00",
         "16599.98"
        ],
        [
         "3",
         "Berlin",
         "2022-12-26 00:00:00",
         "17000.02"
        ],
        [
         "4",
         "Berlin",
         "2022-12-27 00:00:00",
         "17000.02"
        ],
        [
         "5",
         "Berlin",
         "2022-12-28 00:00:00",
         "17599.97"
        ],
        [
         "6",
         "Berlin",
         "2022-12-29 00:00:00",
         "16800.079999999998"
        ],
        [
         "7",
         "Lisbon",
         "2022-11-07 00:00:00",
         "1000.0"
        ],
        [
         "8",
         "Lisbon",
         "2022-11-13 00:00:00",
         "19074.45"
        ],
        [
         "9",
         "Lisbon",
         "2022-11-14 00:00:00",
         "16839.35"
        ],
        [
         "10",
         "Lisbon",
         "2022-11-19 00:00:00",
         "7400.06"
        ],
        [
         "11",
         "Lisbon",
         "2022-11-20 00:00:00",
         "8200.05"
        ],
        [
         "12",
         "Lisbon",
         "2022-11-23 00:00:00",
         "4599.99"
        ],
        [
         "13",
         "Lisbon",
         "2022-12-12 00:00:00",
         "3000.01"
        ],
        [
         "14",
         "Lisbon",
         "2022-12-13 00:00:00",
         "14600.06"
        ],
        [
         "15",
         "Lisbon",
         "2022-12-14 00:00:00",
         "14600.01"
        ],
        [
         "16",
         "Lisbon",
         "2022-12-15 00:00:00",
         "14400.09"
        ],
        [
         "17",
         "Lisbon",
         "2022-12-16 00:00:00",
         "15000.029999999999"
        ],
        [
         "18",
         "Lisbon",
         "2022-12-17 00:00:00",
         "15400.09"
        ],
        [
         "19",
         "Lisbon",
         "2022-12-18 00:00:00",
         "15600.009999999998"
        ],
        [
         "20",
         "Lisbon",
         "2022-12-19 00:00:00",
         "15799.96"
        ],
        [
         "21",
         "Lisbon",
         "2022-12-20 00:00:00",
         "16000.0"
        ],
        [
         "22",
         "Lisbon",
         "2022-12-21 00:00:00",
         "16399.97"
        ],
        [
         "23",
         "Lisbon",
         "2022-12-22 00:00:00",
         "16599.97"
        ],
        [
         "24",
         "Lisbon",
         "2022-12-23 00:00:00",
         "16000.019999999999"
        ],
        [
         "25",
         "Lisbon",
         "2022-12-24 00:00:00",
         "11199.990000000002"
        ],
        [
         "26",
         "London",
         "2022-11-07 00:00:00",
         "2000.01"
        ],
        [
         "27",
         "London",
         "2022-11-25 00:00:00",
         "7400.03"
        ],
        [
         "28",
         "London",
         "2022-11-26 00:00:00",
         "13200.07"
        ],
        [
         "29",
         "London",
         "2022-11-27 00:00:00",
         "13399.98"
        ],
        [
         "30",
         "London",
         "2022-11-28 00:00:00",
         "13400.05"
        ],
        [
         "31",
         "London",
         "2022-11-29 00:00:00",
         "13400.05"
        ],
        [
         "32",
         "London",
         "2022-11-30 00:00:00",
         "13600.09"
        ],
        [
         "33",
         "London",
         "2022-12-01 00:00:00",
         "8400.09"
        ],
        [
         "34",
         "London",
         "2022-12-03 00:00:00",
         "5200.0"
        ],
        [
         "35",
         "London",
         "2022-12-04 00:00:00",
         "9000.1"
        ],
        [
         "36",
         "London",
         "2022-12-05 00:00:00",
         "14200.04"
        ],
        [
         "37",
         "London",
         "2022-12-06 00:00:00",
         "14000.12"
        ],
        [
         "38",
         "London",
         "2022-12-07 00:00:00",
         "14000.06"
        ],
        [
         "39",
         "London",
         "2022-12-08 00:00:00",
         "14200.1"
        ],
        [
         "40",
         "London",
         "2022-12-09 00:00:00",
         "14600.06"
        ],
        [
         "41",
         "London",
         "2022-12-10 00:00:00",
         "14600.06"
        ],
        [
         "42",
         "London",
         "2022-12-11 00:00:00",
         "15000.09"
        ],
        [
         "43",
         "London",
         "2022-12-12 00:00:00",
         "11600.05"
        ],
        [
         "44",
         "Madrid",
         "2022-11-07 00:00:00",
         "2199.99"
        ],
        [
         "45",
         "Madrid",
         "2022-11-10 00:00:00",
         "13200.04"
        ],
        [
         "46",
         "Madrid",
         "2022-11-11 00:00:00",
         "14400.02"
        ],
        [
         "47",
         "Madrid",
         "2022-11-12 00:00:00",
         "14000.06"
        ],
        [
         "48",
         "Madrid",
         "2022-11-13 00:00:00",
         "8600.01"
        ],
        [
         "49",
         "Madrid",
         "2022-11-14 00:00:00",
         "1000.0"
        ]
       ],
       "shape": {
        "columns": 3,
        "rows": 66
       }
      },
      "text/html": [
       "<div>\n",
       "<style scoped>\n",
       "    .dataframe tbody tr th:only-of-type {\n",
       "        vertical-align: middle;\n",
       "    }\n",
       "\n",
       "    .dataframe tbody tr th {\n",
       "        vertical-align: top;\n",
       "    }\n",
       "\n",
       "    .dataframe thead th {\n",
       "        text-align: right;\n",
       "    }\n",
       "</style>\n",
       "<table border=\"1\" class=\"dataframe\">\n",
       "  <thead>\n",
       "    <tr style=\"text-align: right;\">\n",
       "      <th></th>\n",
       "      <th>City</th>\n",
       "      <th>Date</th>\n",
       "      <th>Revenue</th>\n",
       "    </tr>\n",
       "  </thead>\n",
       "  <tbody>\n",
       "    <tr>\n",
       "      <th>0</th>\n",
       "      <td>Berlin</td>\n",
       "      <td>2022-11-08</td>\n",
       "      <td>10400.06</td>\n",
       "    </tr>\n",
       "    <tr>\n",
       "      <th>1</th>\n",
       "      <td>Berlin</td>\n",
       "      <td>2022-12-24</td>\n",
       "      <td>5200.00</td>\n",
       "    </tr>\n",
       "    <tr>\n",
       "      <th>2</th>\n",
       "      <td>Berlin</td>\n",
       "      <td>2022-12-25</td>\n",
       "      <td>16599.98</td>\n",
       "    </tr>\n",
       "    <tr>\n",
       "      <th>3</th>\n",
       "      <td>Berlin</td>\n",
       "      <td>2022-12-26</td>\n",
       "      <td>17000.02</td>\n",
       "    </tr>\n",
       "    <tr>\n",
       "      <th>4</th>\n",
       "      <td>Berlin</td>\n",
       "      <td>2022-12-27</td>\n",
       "      <td>17000.02</td>\n",
       "    </tr>\n",
       "    <tr>\n",
       "      <th>...</th>\n",
       "      <td>...</td>\n",
       "      <td>...</td>\n",
       "      <td>...</td>\n",
       "    </tr>\n",
       "    <tr>\n",
       "      <th>61</th>\n",
       "      <td>Paris</td>\n",
       "      <td>2022-11-22</td>\n",
       "      <td>13599.99</td>\n",
       "    </tr>\n",
       "    <tr>\n",
       "      <th>62</th>\n",
       "      <td>Paris</td>\n",
       "      <td>2022-11-23</td>\n",
       "      <td>8200.05</td>\n",
       "    </tr>\n",
       "    <tr>\n",
       "      <th>63</th>\n",
       "      <td>Paris</td>\n",
       "      <td>2022-12-01</td>\n",
       "      <td>5000.02</td>\n",
       "    </tr>\n",
       "    <tr>\n",
       "      <th>64</th>\n",
       "      <td>Paris</td>\n",
       "      <td>2022-12-02</td>\n",
       "      <td>14000.06</td>\n",
       "    </tr>\n",
       "    <tr>\n",
       "      <th>65</th>\n",
       "      <td>Paris</td>\n",
       "      <td>2022-12-03</td>\n",
       "      <td>8800.06</td>\n",
       "    </tr>\n",
       "  </tbody>\n",
       "</table>\n",
       "<p>66 rows × 3 columns</p>\n",
       "</div>"
      ],
      "text/plain": [
       "      City       Date   Revenue\n",
       "0   Berlin 2022-11-08  10400.06\n",
       "1   Berlin 2022-12-24   5200.00\n",
       "2   Berlin 2022-12-25  16599.98\n",
       "3   Berlin 2022-12-26  17000.02\n",
       "4   Berlin 2022-12-27  17000.02\n",
       "..     ...        ...       ...\n",
       "61   Paris 2022-11-22  13599.99\n",
       "62   Paris 2022-11-23   8200.05\n",
       "63   Paris 2022-12-01   5000.02\n",
       "64   Paris 2022-12-02  14000.06\n",
       "65   Paris 2022-12-03   8800.06\n",
       "\n",
       "[66 rows x 3 columns]"
      ]
     },
     "execution_count": 48,
     "metadata": {},
     "output_type": "execute_result"
    }
   ],
   "source": [
    "df['Date'] = pd.to_datetime(df['Date'], dayfirst=True)\n",
    "df['Revenue']\n",
    "# ? df['Revenue'] = (df['Price'] * df['Quantity']).apply(round_digits)\n",
    "\n",
    "city_day = df.groupby([\"City\", \"Date\"],  as_index=False)['Revenue'].sum()\n",
    "city_day"
   ]
  },
  {
   "cell_type": "code",
   "execution_count": 50,
   "id": "b5dbc086",
   "metadata": {},
   "outputs": [],
   "source": [
    "busiest_day_per_city = city_day.loc[city_day.groupby('City')['Revenue'].idxmax()]"
   ]
  },
  {
   "cell_type": "code",
   "execution_count": 51,
   "id": "673ab1b7",
   "metadata": {},
   "outputs": [
    {
     "name": "stdout",
     "output_type": "stream",
     "text": [
      "Busiest Day Per City:\n",
      "\n",
      "      City       Date   Revenue\n",
      "5   Berlin 2022-12-28  17599.97\n",
      "8   Lisbon 2022-11-13  19074.45\n",
      "42  London 2022-12-11  15000.09\n",
      "53  Madrid 2022-11-18  14400.11\n",
      "59   Paris 2022-11-09  14200.04\n"
     ]
    }
   ],
   "source": [
    "print(\"Busiest Day Per City:\\n\")\n",
    "print(busiest_day_per_city)"
   ]
  }
 ],
 "metadata": {
  "kernelspec": {
   "display_name": "Python 3",
   "language": "python",
   "name": "python3"
  },
  "language_info": {
   "codemirror_mode": {
    "name": "ipython",
    "version": 3
   },
   "file_extension": ".py",
   "mimetype": "text/x-python",
   "name": "python",
   "nbconvert_exporter": "python",
   "pygments_lexer": "ipython3",
   "version": "3.13.1"
  }
 },
 "nbformat": 4,
 "nbformat_minor": 5
}

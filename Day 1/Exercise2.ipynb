{
  "metadata": {
    "kernelspec": {
      "name": "xpython",
      "display_name": "Python 3.13 (XPython)",
      "language": "python"
    },
    "language_info": {
      "file_extension": ".py",
      "mimetype": "text/x-python",
      "name": "python",
      "version": "3.13.1"
    }
  },
  "nbformat_minor": 5,
  "nbformat": 4,
  "cells": [
    {
      "id": "be6a6651-95bf-469a-8c9c-799065b00562",
      "cell_type": "code",
      "source": "import numpy as np",
      "metadata": {
        "trusted": true
      },
      "outputs": [],
      "execution_count": 2
    },
    {
      "id": "1d90ea06-6304-4292-95f8-63d3ffd9f132",
      "cell_type": "code",
      "source": "# --- Library Book --- #",
      "metadata": {
        "trusted": true
      },
      "outputs": [],
      "execution_count": 1
    },
    {
      "id": "01a199ab-2c09-454d-b186-6b86942a0440",
      "cell_type": "code",
      "source": "np.random.seed(1)\n\n# Generate Records\nrecords = np.random.randint(0,6,[2,3,4])\nprint(\"Library Records: \\n\", records)\n\n# Calculate Total Number of Times Each Book Was Borrowed\ntbeb = np.sum(records, axis=(0,1))\nprint(\"Total Number Of Each Book Borrowed: \\n\", tbeb)\n\n# Identify the student who borrowed the most number of books\ntbbes = np.sum(records, axis=(0,2))\n\n# Most Active Student\nmax = np.argmax(tbbes) + 1\nprint(\"Total Borrowed by Each Student: \\n\", max)\n\n",
      "metadata": {
        "trusted": true
      },
      "outputs": [
        {
          "name": "stdout",
          "output_type": "stream",
          "text": "Library Records: \n [[[5 3 4 0]\n  [1 3 5 0]\n  [0 1 4 5]]\n\n [[4 1 2 4]\n  [5 2 4 3]\n  [4 2 4 5]]]\nTotal Number Of Each Book Borrowed: \n [19 12 23 17]\nTotal Borrowed by Each Student: \n 3\n"
        }
      ],
      "execution_count": 38
    }
  ]
}
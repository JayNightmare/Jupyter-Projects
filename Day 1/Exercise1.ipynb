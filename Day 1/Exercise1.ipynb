{
  "metadata": {
    "kernelspec": {
      "name": "xpython",
      "display_name": "Python 3.13 (XPython)",
      "language": "python"
    },
    "language_info": {
      "file_extension": ".py",
      "mimetype": "text/x-python",
      "name": "python",
      "version": "3.13.1"
    }
  },
  "nbformat_minor": 5,
  "nbformat": 4,
  "cells": [
    {
      "id": "8e7d531e-2a5d-47b8-9d73-35b49e04c8a4",
      "cell_type": "code",
      "source": "import numpy as np\nprint(np.__version__)",
      "metadata": {
        "trusted": true
      },
      "outputs": [
        {
          "name": "stdout",
          "output_type": "stream",
          "text": "2.3.1\n"
        }
      ],
      "execution_count": 1
    },
    {
      "id": "554431bc-329d-43ad-aaaa-3b256963c01d",
      "cell_type": "code",
      "source": "# ---------------------------------------- #",
      "metadata": {
        "trusted": true
      },
      "outputs": [],
      "execution_count": 2
    },
    {
      "id": "5e941faf-0918-4bfc-9ed7-f5ac4a89c059",
      "cell_type": "code",
      "source": "# --- Qn1 --- #",
      "metadata": {
        "trusted": true
      },
      "outputs": [],
      "execution_count": 3
    },
    {
      "id": "ce763552-d9a4-41fa-8cba-1183f4adfa06",
      "cell_type": "code",
      "source": "# -- Qn1.1: Create a 1D array of numbers (0 to 11) -- #",
      "metadata": {
        "trusted": true
      },
      "outputs": [],
      "execution_count": 4
    },
    {
      "id": "9ccc2181-2bf9-416e-ae10-9006a6b829aa",
      "cell_type": "code",
      "source": "q1=np.arange(0, 12, 1)\nq1",
      "metadata": {
        "trusted": true
      },
      "outputs": [
        {
          "execution_count": 5,
          "output_type": "execute_result",
          "data": {
            "text/plain": "array([ 0,  1,  2,  3,  4,  5,  6,  7,  8,  9, 10, 11])"
          },
          "metadata": {}
        }
      ],
      "execution_count": 5
    },
    {
      "id": "774288d3-7607-499d-9f23-808825a43478",
      "cell_type": "code",
      "source": "# -- Qn1.2: Print the data type of the array -- #",
      "metadata": {
        "trusted": true
      },
      "outputs": [],
      "execution_count": 6
    },
    {
      "id": "f83422b1-10ed-4817-9bec-240b242a5f3e",
      "cell_type": "code",
      "source": "print(q1.dtype)",
      "metadata": {
        "trusted": true
      },
      "outputs": [
        {
          "name": "stdout",
          "output_type": "stream",
          "text": "int32\n"
        }
      ],
      "execution_count": 7
    },
    {
      "id": "dc4799da-b728-4832-9837-0103068b09c5",
      "cell_type": "code",
      "source": "# -- Qn1.3: Change the dtype to float64 -- #",
      "metadata": {
        "trusted": true
      },
      "outputs": [],
      "execution_count": 8
    },
    {
      "id": "e57be952-157e-4096-a3ad-39f614b0a2e4",
      "cell_type": "code",
      "source": "q1.astype(dtype=np.float64)",
      "metadata": {
        "trusted": true
      },
      "outputs": [
        {
          "execution_count": 9,
          "output_type": "execute_result",
          "data": {
            "text/plain": "array([ 0.,  1.,  2.,  3.,  4.,  5.,  6.,  7.,  8.,  9., 10., 11.])"
          },
          "metadata": {}
        }
      ],
      "execution_count": 9
    },
    {
      "id": "80cb9ab7-72a7-429f-a30d-6332f41a9055",
      "cell_type": "code",
      "source": "# ---------------------------------------- #",
      "metadata": {
        "trusted": true
      },
      "outputs": [],
      "execution_count": 10
    },
    {
      "id": "273d64ce-ffa3-4c78-9989-f26509a91abe",
      "cell_type": "code",
      "source": "# --- Qn2 --- #",
      "metadata": {
        "trusted": true
      },
      "outputs": [],
      "execution_count": 11
    },
    {
      "id": "86fc45e5-69ec-4436-bc74-05fc0a24880e",
      "cell_type": "code",
      "source": "# -- Qn2.1: Extract All Odd Numbers From Array -- #",
      "metadata": {
        "trusted": true
      },
      "outputs": [],
      "execution_count": 12
    },
    {
      "id": "faba91be-eeb4-4b82-a0bf-99a9bdfe0bb4",
      "cell_type": "code",
      "source": "a = [ 0,  1,  2,  3,  4,  5,  6,  7,  8,  9, 10, 11]\na[1::2]",
      "metadata": {
        "trusted": true
      },
      "outputs": [
        {
          "execution_count": 13,
          "output_type": "execute_result",
          "data": {
            "text/plain": "[1, 3, 5, 7, 9, 11]"
          },
          "metadata": {}
        }
      ],
      "execution_count": 13
    },
    {
      "id": "aabc50c8-b63a-446e-bd58-6fc04b79eb40",
      "cell_type": "code",
      "source": "# ---------------------------------------- #",
      "metadata": {
        "trusted": true
      },
      "outputs": [],
      "execution_count": 14
    },
    {
      "id": "26a798bd-d7f8-4c34-ba38-1e129b3c82e2",
      "cell_type": "code",
      "source": "# --- Qn3 --- #",
      "metadata": {
        "trusted": true
      },
      "outputs": [],
      "execution_count": 15
    },
    {
      "id": "05a3afde-b5cc-402e-a455-dea6bb3c8ed6",
      "cell_type": "code",
      "source": "# -- Qn3.1: Convert a 1D Array to a 2D Array with 2 Rows -- #",
      "metadata": {
        "trusted": true
      },
      "outputs": [],
      "execution_count": 16
    },
    {
      "id": "6b8e9c35-33c8-4836-8f2b-45148e54de88",
      "cell_type": "code",
      "source": "a = np.arange(10).reshape(2,5)\na",
      "metadata": {
        "trusted": true
      },
      "outputs": [
        {
          "execution_count": 17,
          "output_type": "execute_result",
          "data": {
            "text/plain": "array([[0, 1, 2, 3, 4],\n       [5, 6, 7, 8, 9]])"
          },
          "metadata": {}
        }
      ],
      "execution_count": 17
    },
    {
      "id": "c07d80a0-6c80-41e8-8cfd-ca82ec63c0af",
      "cell_type": "code",
      "source": "# ---------------------------------------- #",
      "metadata": {
        "trusted": true
      },
      "outputs": [],
      "execution_count": 18
    },
    {
      "id": "c419d8f7-5127-468e-988a-edb10e7ec67b",
      "cell_type": "code",
      "source": "# --- Qn4 --- #",
      "metadata": {
        "trusted": true
      },
      "outputs": [],
      "execution_count": 19
    },
    {
      "id": "e97b4846-3633-4089-acba-aa3af451020a",
      "cell_type": "code",
      "source": "# -- Qn4.1: Stack Arrays `a` and `b` vertically -- #",
      "metadata": {
        "trusted": true
      },
      "outputs": [],
      "execution_count": 20
    },
    {
      "id": "c342d56a-8bcd-488f-adf4-7287e42279c7",
      "cell_type": "code",
      "source": "a = np.arange(10).reshape(2,-1)\nb = np.repeat(1,10).reshape(2,-1)\n\nv = np.vstack((a,b))\nv",
      "metadata": {
        "trusted": true
      },
      "outputs": [
        {
          "execution_count": 21,
          "output_type": "execute_result",
          "data": {
            "text/plain": "array([[0, 1, 2, 3, 4],\n       [5, 6, 7, 8, 9],\n       [1, 1, 1, 1, 1],\n       [1, 1, 1, 1, 1]])"
          },
          "metadata": {}
        }
      ],
      "execution_count": 21
    },
    {
      "id": "0644372a-6008-4f03-bbeb-eacadcb2aacb",
      "cell_type": "code",
      "source": "# ---------------------------------------- #",
      "metadata": {
        "trusted": true
      },
      "outputs": [],
      "execution_count": 22
    },
    {
      "id": "70d5dffc-3019-4feb-88e3-ed3fb6835dc5",
      "cell_type": "code",
      "source": "# --- Qn5 --- #",
      "metadata": {
        "trusted": true
      },
      "outputs": [],
      "execution_count": 23
    },
    {
      "id": "f4efdade-74d7-4a08-b95f-11a73903c9d1",
      "cell_type": "code",
      "source": "# -- Qn5.1: Get the positions where elements of a and b match -- #",
      "metadata": {
        "trusted": true
      },
      "outputs": [],
      "execution_count": 24
    },
    {
      "id": "1bfaacb5-0dc1-45b1-ab24-3e194e5c6c33",
      "cell_type": "code",
      "source": "a = np.array([1,2,3,2,3,4,3,4,5,6])\nb = np.array([7,2,10,2,7,4,9,4,9,8])\n\nnp.where(a == b)",
      "metadata": {
        "trusted": true
      },
      "outputs": [
        {
          "execution_count": 25,
          "output_type": "execute_result",
          "data": {
            "text/plain": "(array([1, 3, 5, 7]),)"
          },
          "metadata": {}
        }
      ],
      "execution_count": 25
    },
    {
      "id": "23d4ab75-8aa5-469e-8f3c-3876d213b482",
      "cell_type": "code",
      "source": "# ---------------------------------------- #",
      "metadata": {
        "trusted": true
      },
      "outputs": [],
      "execution_count": 26
    },
    {
      "id": "4d3a8b3a-81f5-4cb7-8d1e-9a8200f7bc7f",
      "cell_type": "code",
      "source": "# --- Qn6 --- #",
      "metadata": {
        "trusted": true
      },
      "outputs": [],
      "execution_count": 27
    },
    {
      "id": "63097557-0464-4195-814c-9d604c61f226",
      "cell_type": "code",
      "source": "# -- Qn6.1: Swap columns 1 and 2 in the array -- #",
      "metadata": {
        "trusted": true
      },
      "outputs": [],
      "execution_count": 28
    },
    {
      "id": "40eb881a-fd64-407c-b019-2d5a110181d6",
      "cell_type": "code",
      "source": "a = np.arange(9).reshape(3,3)\nprint(\"Array: \\n\", a)\nb=a[:, [0,2,1]]\nprint(\"New Array: \\n\", b)",
      "metadata": {
        "trusted": true
      },
      "outputs": [
        {
          "name": "stdout",
          "output_type": "stream",
          "text": "Array: \n [[0 1 2]\n [3 4 5]\n [6 7 8]]\nNew Array: \n [[0 2 1]\n [3 5 4]\n [6 8 7]]\n"
        }
      ],
      "execution_count": 29
    },
    {
      "id": "bb1c8e7e-4d6f-44b2-9fcb-1bcbe0a2549b",
      "cell_type": "code",
      "source": "# ---------------------------------------- #",
      "metadata": {
        "trusted": true
      },
      "outputs": [],
      "execution_count": 30
    },
    {
      "id": "b6419f43-af94-417f-906a-6f1d494b396e",
      "cell_type": "code",
      "source": "# --- Qn7 --- #",
      "metadata": {
        "trusted": true
      },
      "outputs": [],
      "execution_count": 31
    },
    {
      "id": "e2cfd211-0f7c-4963-9364-17d081085a67",
      "cell_type": "code",
      "source": "# -- Qn7.1: Swap Rows -- #",
      "metadata": {
        "trusted": true
      },
      "outputs": [],
      "execution_count": 32
    },
    {
      "id": "097ec987-c6c0-4103-a98a-bfddcb97ac9a",
      "cell_type": "code",
      "source": "a = np.arange(9).reshape(3,3)\nprint(\"Array: \\n\", a)\na[[1, 2]] = a[[2, 1]]\n\nprint(\"New Array: \\n\", a)",
      "metadata": {
        "trusted": true
      },
      "outputs": [
        {
          "name": "stdout",
          "output_type": "stream",
          "text": "Array: \n [[0 1 2]\n [3 4 5]\n [6 7 8]]\nNew Array: \n [[0 1 2]\n [6 7 8]\n [3 4 5]]\n"
        }
      ],
      "execution_count": 112
    },
    {
      "id": "9ffacbe5-8209-410c-b6b9-7f3a2a42df69",
      "cell_type": "code",
      "source": "# ---------------------------------------- #",
      "metadata": {
        "trusted": true
      },
      "outputs": [],
      "execution_count": 107
    },
    {
      "id": "dd9e795f-33a9-466c-b5b6-af73484a7150",
      "cell_type": "code",
      "source": "# --- Qn8 --- #",
      "metadata": {
        "trusted": true
      },
      "outputs": [],
      "execution_count": 108
    },
    {
      "id": "0c193b61-a0a3-46e6-9506-c7aededa6d4f",
      "cell_type": "code",
      "source": "# -- Qn8.1: Reverse -- #",
      "metadata": {
        "trusted": true
      },
      "outputs": [],
      "execution_count": 36
    },
    {
      "id": "b801fada-b047-4325-b37c-da1b47b77de3",
      "cell_type": "code",
      "source": "a = np.arange(9).reshape(3,3)\nb = a[::-1]\nprint(\"New Array: \\n\", b)",
      "metadata": {
        "trusted": true
      },
      "outputs": [
        {
          "name": "stdout",
          "output_type": "stream",
          "text": "New Array: \n [[6 7 8]\n [3 4 5]\n [0 1 2]]\n"
        }
      ],
      "execution_count": 115
    },
    {
      "id": "dba1e65f-c215-4105-86ea-51cc976720b7",
      "cell_type": "code",
      "source": "# ---------------------------------------- #",
      "metadata": {
        "trusted": true
      },
      "outputs": [],
      "execution_count": 34
    },
    {
      "id": "3527492f-a978-4ade-82ef-d8a364dcf9f4",
      "cell_type": "code",
      "source": "# --- Qn9 --- #",
      "metadata": {
        "trusted": true
      },
      "outputs": [],
      "execution_count": 35
    },
    {
      "id": "8da62477-d82b-4bc8-bbb0-8f2095e93adc",
      "cell_type": "code",
      "source": "# -- Create 2d array of shape 5x3 containing random dec nums between 5 and 10 -- #",
      "metadata": {
        "trusted": true
      },
      "outputs": [],
      "execution_count": null
    },
    {
      "id": "cff5565c-985e-402a-b62b-0aa1395cd8c5",
      "cell_type": "code",
      "source": "a = np.random.uniform(5, 11, size=15).reshape(5,3) \na",
      "metadata": {
        "trusted": true
      },
      "outputs": [
        {
          "execution_count": 81,
          "output_type": "execute_result",
          "data": {
            "text/plain": "array([[ 9.59028494,  8.26184825,  9.55619049],\n       [ 5.90449348,  5.50946788, 10.55398877],\n       [ 9.66120545,  9.62331824,  8.79389133],\n       [ 5.89510171,  8.68069416,  6.29155329],\n       [ 8.18625615,  8.28044609,  6.91933035]])"
          },
          "metadata": {}
        }
      ],
      "execution_count": 81
    },
    {
      "id": "fea79022-0e26-4a05-9c8c-4c7cf31688ef",
      "cell_type": "code",
      "source": "# ---------------------------------------- #",
      "metadata": {
        "trusted": true
      },
      "outputs": [],
      "execution_count": 34
    },
    {
      "id": "37905dd9-2288-4658-86e1-f639b8cdca65",
      "cell_type": "code",
      "source": "# --- Qn10 --- #",
      "metadata": {
        "trusted": true
      },
      "outputs": [],
      "execution_count": null
    },
    {
      "id": "46e49753-039a-45ec-8c96-39d804b25c9c",
      "cell_type": "code",
      "source": "a = np.arange(0, 10, 1) # Given Array",
      "metadata": {
        "trusted": true
      },
      "outputs": [],
      "execution_count": 125
    },
    {
      "id": "faaee38b-98c3-4c9d-ad19-bc757e23b6d2",
      "cell_type": "code",
      "source": "# -- Qn10.1: Create a slice of array contiaining the following values -- #\n# [5,6,7]",
      "metadata": {
        "trusted": true
      },
      "outputs": [],
      "execution_count": 82
    },
    {
      "id": "e7614843-e5b1-4c2e-b100-71ea351a2949",
      "cell_type": "code",
      "source": "b = a[5:-2]",
      "metadata": {
        "trusted": true
      },
      "outputs": [
        {
          "execution_count": 118,
          "output_type": "execute_result",
          "data": {
            "text/plain": "array([5, 6, 7])"
          },
          "metadata": {}
        }
      ],
      "execution_count": 118
    },
    {
      "id": "47cc6760-a227-4387-ae82-5cc42cc982ff",
      "cell_type": "code",
      "source": "# -- Qn10.2: Modify the given array to below format -- #",
      "metadata": {
        "trusted": true
      },
      "outputs": [],
      "execution_count": null
    },
    {
      "id": "1dfc16b4-6dc3-4827-95cb-7aa62d0d1f57",
      "cell_type": "code",
      "source": "a[5:8] = 12\na",
      "metadata": {
        "trusted": true
      },
      "outputs": [
        {
          "execution_count": 128,
          "output_type": "execute_result",
          "data": {
            "text/plain": "array([ 0,  1,  2,  3,  4, 12, 12, 12,  8,  9])"
          },
          "metadata": {}
        }
      ],
      "execution_count": 128
    },
    {
      "id": "3ba25b96-ce34-4aec-8307-aeb3a01c7f6d",
      "cell_type": "code",
      "source": "# ---------------------------------------- #",
      "metadata": {
        "trusted": true
      },
      "outputs": [],
      "execution_count": 34
    },
    {
      "id": "7924aca2-f556-4132-a999-e8a50458a1b9",
      "cell_type": "code",
      "source": "# --- Qn11 --- #",
      "metadata": {
        "trusted": true
      },
      "outputs": [],
      "execution_count": null
    },
    {
      "id": "2c314450-3dbd-4b33-bff2-14fe3535b783",
      "cell_type": "code",
      "source": "# -- Drop all nan values from a 1D numpy array -- #",
      "metadata": {
        "trusted": true
      },
      "outputs": [],
      "execution_count": 129
    },
    {
      "id": "413d4a41-2adf-4e84-b8b6-f0009abab273",
      "cell_type": "code",
      "source": "a = np.array([1,2,3,np.nan,5,6,7,np.nan])\na[~np.isnan(a)]",
      "metadata": {
        "trusted": true
      },
      "outputs": [
        {
          "execution_count": 138,
          "output_type": "execute_result",
          "data": {
            "text/plain": "array([1., 2., 3., 5., 6., 7.])"
          },
          "metadata": {}
        }
      ],
      "execution_count": 138
    },
    {
      "id": "4aaceb4a-d588-4c39-800e-919a35517da7",
      "cell_type": "code",
      "source": "# ---------------------------------------- #",
      "metadata": {
        "trusted": true
      },
      "outputs": [],
      "execution_count": null
    },
    {
      "id": "609ae9c0-b9c2-41a6-ab6e-c497b87bd3f2",
      "cell_type": "code",
      "source": "# --- Qn12 --- #",
      "metadata": {
        "trusted": true
      },
      "outputs": [],
      "execution_count": 139
    },
    {
      "id": "21d2f618-05d7-4229-9212-3e8a0b8c883b",
      "cell_type": "code",
      "source": "# -- Create an Empty, ones and zero array with 6,3, and 4 elements respectively -- #",
      "metadata": {
        "trusted": true
      },
      "outputs": [],
      "execution_count": 140
    },
    {
      "id": "a8c78af0-e09a-4606-ac13-539dd12a816b",
      "cell_type": "code",
      "source": "e = np.empty(6)\no = np.ones(3)\nz = np.zeros(4)\nprint(e)\nprint(o)\nprint(z)",
      "metadata": {
        "trusted": true
      },
      "outputs": [
        {
          "name": "stdout",
          "output_type": "stream",
          "text": "[1. 2. 3. 5. 6. 7.]\n[1. 1. 1.]\n[0. 0. 0. 0.]\n"
        }
      ],
      "execution_count": 151
    },
    {
      "id": "e1650cfe-e527-4827-bcbf-bbf9382b778c",
      "cell_type": "code",
      "source": "# ---------------------------------------- #",
      "metadata": {
        "trusted": true
      },
      "outputs": [],
      "execution_count": null
    },
    {
      "id": "8aac75e6-1556-4973-be03-7b723548a85a",
      "cell_type": "code",
      "source": "# --- Qn13 --- #",
      "metadata": {
        "trusted": true
      },
      "outputs": [],
      "execution_count": null
    },
    {
      "id": "82c843a1-f257-42fd-b4fc-cd1975e2c85e",
      "cell_type": "code",
      "source": "a = np.full((4,4), 23.67)\na",
      "metadata": {
        "trusted": true
      },
      "outputs": [
        {
          "execution_count": 152,
          "output_type": "execute_result",
          "data": {
            "text/plain": "array([[23.67, 23.67, 23.67, 23.67],\n       [23.67, 23.67, 23.67, 23.67],\n       [23.67, 23.67, 23.67, 23.67],\n       [23.67, 23.67, 23.67, 23.67]])"
          },
          "metadata": {}
        }
      ],
      "execution_count": 152
    },
    {
      "id": "4ca3643e-0e87-4594-8a42-1e057af0ffcd",
      "cell_type": "code",
      "source": "# ---------------------------------------- #",
      "metadata": {
        "trusted": true
      },
      "outputs": [],
      "execution_count": null
    },
    {
      "id": "464e3e6e-52b4-4c93-9ab9-8c730888edae",
      "cell_type": "code",
      "source": "# --- Qn14 --- #",
      "metadata": {
        "trusted": true
      },
      "outputs": [],
      "execution_count": null
    },
    {
      "id": "b0614d12-7f55-43e1-9582-0497e1a7abe3",
      "cell_type": "code",
      "source": "# -- Create an array with 8 values that are spaced linearly in the [13, 27] interval -- #",
      "metadata": {
        "trusted": true
      },
      "outputs": [],
      "execution_count": 153
    },
    {
      "id": "abd89ce1-a6df-435b-9718-596c673f0baf",
      "cell_type": "code",
      "source": "a = np.linspace(13,27,8, dtype=np.int32)\na",
      "metadata": {
        "trusted": true
      },
      "outputs": [
        {
          "execution_count": 158,
          "output_type": "execute_result",
          "data": {
            "text/plain": "array([13, 15, 17, 19, 21, 23, 25, 27])"
          },
          "metadata": {}
        }
      ],
      "execution_count": 158
    },
    {
      "id": "2b4e7549-c8d6-4c40-971a-e3168dc83e29",
      "cell_type": "code",
      "source": "# ---------------------------------------- #",
      "metadata": {
        "trusted": true
      },
      "outputs": [],
      "execution_count": null
    },
    {
      "id": "e13d0ad3-a65d-49d8-83f3-735ea234344e",
      "cell_type": "code",
      "source": "# ---- Optional Questions ---- #",
      "metadata": {
        "trusted": true
      },
      "outputs": [],
      "execution_count": 159
    },
    {
      "id": "59fc194b-4b56-4e02-bb4b-52326b45f061",
      "cell_type": "code",
      "source": "# --- Qn15 --- #",
      "metadata": {
        "trusted": true
      },
      "outputs": [],
      "execution_count": null
    },
    {
      "id": "096375fc-bfa2-43e0-a2d4-abfcb5b5e27c",
      "cell_type": "code",
      "source": "# -- Create a random array with 50 random numbers max less than 1000 -- #",
      "metadata": {
        "trusted": true
      },
      "outputs": [],
      "execution_count": null
    },
    {
      "id": "be1b0cf4-2d40-4d67-8c9e-c93c912a2286",
      "cell_type": "code",
      "source": "a = np.random.randint(0, 1000, 50)\na",
      "metadata": {
        "trusted": true
      },
      "outputs": [
        {
          "execution_count": 164,
          "output_type": "execute_result",
          "data": {
            "text/plain": "array([101, 546, 242, 351, 154, 555,  78,  50, 476, 397, 798,  93, 379,\n       520, 705, 269, 519, 588, 707, 577, 837, 182, 908, 859, 543, 538,\n       502, 286, 886, 461, 976, 649, 524, 143, 554, 337, 598, 377, 906,\n       353, 432, 802, 218, 854, 284, 473, 820, 357, 824, 492])"
          },
          "metadata": {}
        }
      ],
      "execution_count": 164
    },
    {
      "id": "08a4befe-5bf2-42de-a2fe-9465835ef0db",
      "cell_type": "code",
      "source": "# ---------------------------------------- #",
      "metadata": {
        "trusted": true
      },
      "outputs": [],
      "execution_count": null
    },
    {
      "id": "5b7c6244-d7a6-410b-af56-b9c082efcc87",
      "cell_type": "code",
      "source": "# --- Qn16 --- #",
      "metadata": {
        "trusted": true
      },
      "outputs": [],
      "execution_count": null
    },
    {
      "id": "cbc6519b-25ab-4cbe-a9b4-1a4d587196c6",
      "cell_type": "code",
      "source": "# -- Improve answer 15 to always return same random numbers -- #",
      "metadata": {
        "trusted": true
      },
      "outputs": [],
      "execution_count": null
    },
    {
      "id": "46acdf40-1ffe-4fdc-ab67-ef78b522e0f6",
      "cell_type": "code",
      "source": "np.random.seed(1)\na = np.random.randint(0, 1000, 50)\nprint(a)",
      "metadata": {
        "trusted": true
      },
      "outputs": [
        {
          "name": "stdout",
          "output_type": "stream",
          "text": "[ 37 235 908  72 767 905 715 645 847 960 144 129 972 583 749 508 390 281\n 178 276 254 357 914 468 907 252 490 668 925 398 562 580 215 983 753 503\n 478 864  86 141 393   7 319 829 534 313 513 896 316 209]\n"
        }
      ],
      "execution_count": 176
    },
    {
      "id": "ac92aba7-ca41-4da5-bd88-8b5a4695f460",
      "cell_type": "code",
      "source": "# ---------------------------------------- #",
      "metadata": {
        "trusted": true
      },
      "outputs": [],
      "execution_count": null
    },
    {
      "id": "7bc03c36-08e2-47d6-8f23-7c5fd40ec467",
      "cell_type": "code",
      "source": "# --- Qn17 --- #",
      "metadata": {
        "trusted": true
      },
      "outputs": [],
      "execution_count": 177
    },
    {
      "id": "2eaa1afe-2f34-4dad-b8b8-878b1618ecb0",
      "cell_type": "code",
      "source": "# -- Generate a 6 letter word from english alph -- #",
      "metadata": {
        "trusted": true
      },
      "outputs": [],
      "execution_count": null
    },
    {
      "id": "a5b95947-a66f-4ee9-8a0f-cb1f79ee557d",
      "cell_type": "code",
      "source": "a = np.array(list('abcdefghijklmnopqrstuvwxyz'), dtype=str)\nw = a[a == 'w']\no = a[a == 'o']\nr = a[a == 'r']\nd = a[a == 'd']\nl = a[a == 'l']\ny = a[a == 'y']\nword = w+o+r+d+l+y\nprint(\"First Word: \\n\", word[0])\n\n# OR\n\nword = ''.join(np.random.choice(a, 6))\nprint(\"Second Word: \\n\", word)",
      "metadata": {
        "trusted": true
      },
      "outputs": [
        {
          "name": "stdout",
          "output_type": "stream",
          "text": "First Word: \n wordly\nSecond Word: \n rzdeyr\n"
        }
      ],
      "execution_count": 187
    },
    {
      "id": "28447eb2-6e3b-4871-8cba-dd60caa0560f",
      "cell_type": "code",
      "source": "# ---------------------------------------- #",
      "metadata": {
        "trusted": true
      },
      "outputs": [],
      "execution_count": null
    },
    {
      "id": "822242bc-9f9e-4f67-a578-9e40c4d652d6",
      "cell_type": "code",
      "source": "# --- Qn18 --- #",
      "metadata": {
        "trusted": true
      },
      "outputs": [],
      "execution_count": 188
    },
    {
      "id": "c6794ccb-1be9-45b8-bb33-8a832d2ecd0e",
      "cell_type": "code",
      "source": "# -- Create 3 1D Arrays -- #",
      "metadata": {
        "trusted": true
      },
      "outputs": [],
      "execution_count": null
    },
    {
      "id": "7a4aa162-a871-478b-a82a-10b5c0bfc38a",
      "cell_type": "code",
      "source": "# -- Solution 1: -- #\nd1 = [1,2,3,4,5,6,7,8]\nd2 = [9,10,11,12,13,14,15,16]\nd3 = [17,18,19,20,21,22,23,24]\n\nx = []\nfor a,b,c in zip(d1,d2,d3):\n    x.append(a+b+c)\n\ny = []\nfor a,b,c in zip(d1,d2,d3):\n    y.append(a-b-c)\n\nprint(\"X: \\n\", x)\nprint(\"Y: \\n\", y)\nprint(\"# ---------------------------------------- #\")\n# ---------------- #\n\n# -- Solution 2: -- #\nd1 = np.arange(1,9)\nd2 = np.arange(9,17)\nd3 = np.arange(17,25)\n\na = d1+d2+d3\nb = d1-d2-d3\n\nprint(\"A: \\n\", a)\nprint(\"B: \\n\", b)\n# ----------------- #",
      "metadata": {
        "trusted": true
      },
      "outputs": [
        {
          "name": "stdout",
          "output_type": "stream",
          "text": "X: \n [27, 30, 33, 36, 39, 42, 45, 48]\nY: \n [-25, -26, -27, -28, -29, -30, -31, -32]\n# ---------------------------------------- #\nA: \n [27 30 33 36 39 42 45 48]\nB: \n [-25 -26 -27 -28 -29 -30 -31 -32]\n"
        }
      ],
      "execution_count": 203
    },
    {
      "id": "c06d6710-71e8-4300-96db-973b5ea34602",
      "cell_type": "code",
      "source": "# ---------------------------------------- #",
      "metadata": {
        "trusted": true
      },
      "outputs": [],
      "execution_count": null
    },
    {
      "id": "f0e6305c-5087-45b2-88e0-7f113a082a28",
      "cell_type": "code",
      "source": "# --- Qn19 --- #",
      "metadata": {
        "trusted": true
      },
      "outputs": [],
      "execution_count": 204
    },
    {
      "id": "cf57f206-229e-40a1-a79e-d4bd0297a92e",
      "cell_type": "code",
      "source": "# -- Calculate IQR for the following array -- #",
      "metadata": {
        "trusted": true
      },
      "outputs": [],
      "execution_count": 205
    },
    {
      "id": "4784e822-0605-4c97-a715-e8836cbde223",
      "cell_type": "code",
      "source": "iqr=np.array([31, 29, 30, 32, 34, 36, 37, 40, 40, 41, 46, 48, 54, 57])\n\na, b = np.percentile(iqr, [25, 75])\nc = b-a\nprint(c)",
      "metadata": {
        "trusted": true
      },
      "outputs": [
        {
          "name": "stdout",
          "output_type": "stream",
          "text": "12.25\n"
        }
      ],
      "execution_count": 217
    },
    {
      "id": "b7d440dd-dad8-4954-9d99-e29c6b3ee78d",
      "cell_type": "code",
      "source": "# ---------------------------------------- #",
      "metadata": {
        "trusted": true
      },
      "outputs": [],
      "execution_count": null
    }
  ]
}